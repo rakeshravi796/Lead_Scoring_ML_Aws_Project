{
 "cells": [
  {
   "cell_type": "markdown",
   "id": "42cc92f4",
   "metadata": {},
   "source": [
    "<h1>Feature Documentation Notebook</h1>\n",
    "<h4 style=color:blue>This is an extensive documentation of cleaning decisions and imputation decisions of all the features</h4>"
   ]
  },
  {
   "cell_type": "code",
   "execution_count": 1,
   "id": "b36e8fe5",
   "metadata": {},
   "outputs": [
    {
     "name": "stdout",
     "output_type": "stream",
     "text": [
      "Imported v0.1.905. Please call AutoViz in this sequence:\n",
      "    AV = AutoViz_Class()\n",
      "    %matplotlib inline\n",
      "    dfte = AV.AutoViz(filename, sep=',', depVar='', dfte=None, header=0, verbose=1, lowess=False,\n",
      "               chart_format='svg',max_rows_analyzed=150000,max_cols_analyzed=30, save_plot_dir=None)\n"
     ]
    }
   ],
   "source": [
    "import pandas as pd\n",
    "import numpy as np\n",
    "from autoviz.AutoViz_Class import AutoViz_Class\n",
    "import matplotlib.pyplot as plt\n",
    "import seaborn as sns\n",
    "from IPython.display import display \n",
    "pd.options.display.max_columns = None"
   ]
  },
  {
   "cell_type": "code",
   "execution_count": 61,
   "id": "08af710d",
   "metadata": {},
   "outputs": [],
   "source": [
    "df = pd.read_csv(\"Lead Scoring.csv\")"
   ]
  },
  {
   "cell_type": "code",
   "execution_count": 60,
   "id": "60fd0800",
   "metadata": {},
   "outputs": [
    {
     "name": "stdout",
     "output_type": "stream",
     "text": [
      "Shape of your Data Set loaded: (9240, 37)\n",
      "#######################################################################################\n",
      "######################## C L A S S I F Y I N G  V A R I A B L E S  ####################\n",
      "#######################################################################################\n",
      "Classifying variables in data set...\n",
      "    Number of Numeric Columns =  4\n",
      "    Number of Integer-Categorical Columns =  1\n",
      "    Number of String-Categorical Columns =  15\n",
      "    Number of Factor-Categorical Columns =  0\n",
      "    Number of String-Boolean Columns =  9\n",
      "    Number of Numeric-Boolean Columns =  0\n",
      "    Number of Discrete String Columns =  0\n",
      "    Number of NLP String Columns =  0\n",
      "    Number of Date Time Columns =  0\n",
      "    Number of ID Columns =  2\n",
      "    Number of Columns to Delete =  5\n",
      "    36 Predictors classified...\n",
      "        7 variable(s) removed since they were ID or low-information variables\n",
      "        List of variables removed: ['Prospect ID', 'Lead Number', 'Magazine', 'Receive More Updates About Our Courses', 'Update me on Supply Chain Content', 'Get updates on DM Content', 'I agree to pay the amount through cheque']\n",
      "\n",
      "################ Binary_Classification problem #####################\n",
      "   Total columns > 30, too numerous to print.\n",
      "To fix these data quality issues in the dataset, import FixDQ from autoviz...\n",
      "There are 1281 duplicate rows in your dataset\n",
      "    Alert: Dropping duplicate rows can sometimes cause your column data types to change to object!\n",
      "    All variables classified into correct types.\n"
     ]
    },
    {
     "data": {
      "text/html": [
       "<style type=\"text/css\">\n",
       "#T_7f00e_row0_col0, #T_7f00e_row0_col2, #T_7f00e_row0_col3, #T_7f00e_row0_col4, #T_7f00e_row0_col5, #T_7f00e_row1_col0, #T_7f00e_row1_col2, #T_7f00e_row1_col3, #T_7f00e_row1_col4, #T_7f00e_row1_col5, #T_7f00e_row2_col0, #T_7f00e_row2_col2, #T_7f00e_row2_col3, #T_7f00e_row2_col4, #T_7f00e_row2_col5, #T_7f00e_row3_col0, #T_7f00e_row3_col2, #T_7f00e_row3_col3, #T_7f00e_row3_col4, #T_7f00e_row3_col5, #T_7f00e_row4_col0, #T_7f00e_row4_col2, #T_7f00e_row4_col3, #T_7f00e_row4_col4, #T_7f00e_row4_col5, #T_7f00e_row5_col0, #T_7f00e_row5_col2, #T_7f00e_row5_col3, #T_7f00e_row5_col4, #T_7f00e_row5_col5, #T_7f00e_row6_col0, #T_7f00e_row6_col2, #T_7f00e_row6_col3, #T_7f00e_row6_col4, #T_7f00e_row6_col5, #T_7f00e_row7_col0, #T_7f00e_row7_col2, #T_7f00e_row7_col3, #T_7f00e_row7_col4, #T_7f00e_row7_col5, #T_7f00e_row8_col0, #T_7f00e_row8_col2, #T_7f00e_row8_col3, #T_7f00e_row8_col4, #T_7f00e_row8_col5, #T_7f00e_row9_col0, #T_7f00e_row9_col2, #T_7f00e_row9_col3, #T_7f00e_row9_col4, #T_7f00e_row9_col5, #T_7f00e_row10_col0, #T_7f00e_row10_col2, #T_7f00e_row10_col3, #T_7f00e_row10_col4, #T_7f00e_row10_col5, #T_7f00e_row11_col0, #T_7f00e_row11_col2, #T_7f00e_row11_col3, #T_7f00e_row11_col4, #T_7f00e_row11_col5, #T_7f00e_row12_col0, #T_7f00e_row12_col2, #T_7f00e_row12_col3, #T_7f00e_row12_col4, #T_7f00e_row12_col5, #T_7f00e_row13_col0, #T_7f00e_row13_col2, #T_7f00e_row13_col3, #T_7f00e_row13_col4, #T_7f00e_row13_col5, #T_7f00e_row14_col0, #T_7f00e_row14_col2, #T_7f00e_row14_col3, #T_7f00e_row14_col4, #T_7f00e_row14_col5, #T_7f00e_row15_col0, #T_7f00e_row15_col2, #T_7f00e_row15_col3, #T_7f00e_row15_col4, #T_7f00e_row15_col5, #T_7f00e_row16_col0, #T_7f00e_row16_col2, #T_7f00e_row16_col3, #T_7f00e_row16_col4, #T_7f00e_row16_col5, #T_7f00e_row17_col0, #T_7f00e_row17_col2, #T_7f00e_row17_col3, #T_7f00e_row17_col4, #T_7f00e_row17_col5, #T_7f00e_row18_col0, #T_7f00e_row18_col2, #T_7f00e_row18_col3, #T_7f00e_row18_col4, #T_7f00e_row18_col5, #T_7f00e_row19_col0, #T_7f00e_row19_col2, #T_7f00e_row19_col3, #T_7f00e_row19_col4, #T_7f00e_row19_col5, #T_7f00e_row20_col0, #T_7f00e_row20_col2, #T_7f00e_row20_col3, #T_7f00e_row20_col4, #T_7f00e_row20_col5, #T_7f00e_row21_col0, #T_7f00e_row21_col2, #T_7f00e_row21_col3, #T_7f00e_row21_col4, #T_7f00e_row21_col5, #T_7f00e_row22_col0, #T_7f00e_row22_col2, #T_7f00e_row22_col3, #T_7f00e_row22_col4, #T_7f00e_row22_col5, #T_7f00e_row23_col0, #T_7f00e_row23_col2, #T_7f00e_row23_col3, #T_7f00e_row23_col4, #T_7f00e_row23_col5, #T_7f00e_row24_col0, #T_7f00e_row24_col2, #T_7f00e_row24_col3, #T_7f00e_row24_col4, #T_7f00e_row24_col5, #T_7f00e_row25_col0, #T_7f00e_row25_col2, #T_7f00e_row25_col3, #T_7f00e_row25_col4, #T_7f00e_row25_col5, #T_7f00e_row26_col0, #T_7f00e_row26_col2, #T_7f00e_row26_col3, #T_7f00e_row26_col4, #T_7f00e_row26_col5, #T_7f00e_row27_col0, #T_7f00e_row27_col2, #T_7f00e_row27_col3, #T_7f00e_row27_col4, #T_7f00e_row27_col5, #T_7f00e_row28_col0, #T_7f00e_row28_col2, #T_7f00e_row28_col3, #T_7f00e_row28_col4, #T_7f00e_row28_col5, #T_7f00e_row29_col0, #T_7f00e_row29_col2, #T_7f00e_row29_col3, #T_7f00e_row29_col4, #T_7f00e_row29_col5 {\n",
       "  font-family: Segoe UI;\n",
       "}\n",
       "#T_7f00e_row0_col1, #T_7f00e_row2_col1, #T_7f00e_row3_col1, #T_7f00e_row5_col1, #T_7f00e_row13_col1, #T_7f00e_row14_col1, #T_7f00e_row15_col1, #T_7f00e_row16_col1, #T_7f00e_row17_col1, #T_7f00e_row18_col1, #T_7f00e_row27_col1, #T_7f00e_row28_col1, #T_7f00e_row29_col1 {\n",
       "  background-color: #fff5f0;\n",
       "  color: #000000;\n",
       "  font-family: Segoe UI;\n",
       "}\n",
       "#T_7f00e_row1_col1 {\n",
       "  background-color: #fff4ee;\n",
       "  color: #000000;\n",
       "  font-family: Segoe UI;\n",
       "}\n",
       "#T_7f00e_row4_col1, #T_7f00e_row6_col1 {\n",
       "  background-color: #ffefe8;\n",
       "  color: #000000;\n",
       "  font-family: Segoe UI;\n",
       "}\n",
       "#T_7f00e_row7_col1 {\n",
       "  background-color: #fff0e9;\n",
       "  color: #000000;\n",
       "  font-family: Segoe UI;\n",
       "}\n",
       "#T_7f00e_row8_col1 {\n",
       "  background-color: #fca588;\n",
       "  color: #000000;\n",
       "  font-family: Segoe UI;\n",
       "}\n",
       "#T_7f00e_row9_col1 {\n",
       "  background-color: #fdcdb9;\n",
       "  color: #000000;\n",
       "  font-family: Segoe UI;\n",
       "}\n",
       "#T_7f00e_row10_col1 {\n",
       "  background-color: #fc8b6b;\n",
       "  color: #f1f1f1;\n",
       "  font-family: Segoe UI;\n",
       "}\n",
       "#T_7f00e_row11_col1 {\n",
       "  background-color: #f96044;\n",
       "  color: #f1f1f1;\n",
       "  font-family: Segoe UI;\n",
       "}\n",
       "#T_7f00e_row12_col1, #T_7f00e_row21_col1 {\n",
       "  background-color: #f85d42;\n",
       "  color: #f1f1f1;\n",
       "  font-family: Segoe UI;\n",
       "}\n",
       "#T_7f00e_row19_col1 {\n",
       "  background-color: #e93529;\n",
       "  color: #f1f1f1;\n",
       "  font-family: Segoe UI;\n",
       "}\n",
       "#T_7f00e_row20_col1 {\n",
       "  background-color: #67000d;\n",
       "  color: #f1f1f1;\n",
       "  font-family: Segoe UI;\n",
       "}\n",
       "#T_7f00e_row22_col1 {\n",
       "  background-color: #fdcebb;\n",
       "  color: #000000;\n",
       "  font-family: Segoe UI;\n",
       "}\n",
       "#T_7f00e_row23_col1, #T_7f00e_row24_col1, #T_7f00e_row25_col1, #T_7f00e_row26_col1 {\n",
       "  background-color: #800610;\n",
       "  color: #f1f1f1;\n",
       "  font-family: Segoe UI;\n",
       "}\n",
       "</style>\n",
       "<table id=\"T_7f00e\">\n",
       "  <thead>\n",
       "    <tr>\n",
       "      <th class=\"blank level0\" >&nbsp;</th>\n",
       "      <th id=\"T_7f00e_level0_col0\" class=\"col_heading level0 col0\" >Data Type</th>\n",
       "      <th id=\"T_7f00e_level0_col1\" class=\"col_heading level0 col1\" >Missing Values%</th>\n",
       "      <th id=\"T_7f00e_level0_col2\" class=\"col_heading level0 col2\" >Unique Values%</th>\n",
       "      <th id=\"T_7f00e_level0_col3\" class=\"col_heading level0 col3\" >Minimum Value</th>\n",
       "      <th id=\"T_7f00e_level0_col4\" class=\"col_heading level0 col4\" >Maximum Value</th>\n",
       "      <th id=\"T_7f00e_level0_col5\" class=\"col_heading level0 col5\" >DQ Issue</th>\n",
       "    </tr>\n",
       "  </thead>\n",
       "  <tbody>\n",
       "    <tr>\n",
       "      <th id=\"T_7f00e_level0_row0\" class=\"row_heading level0 row0\" >Lead Origin</th>\n",
       "      <td id=\"T_7f00e_row0_col0\" class=\"data row0 col0\" >object</td>\n",
       "      <td id=\"T_7f00e_row0_col1\" class=\"data row0 col1\" >0.000000</td>\n",
       "      <td id=\"T_7f00e_row0_col2\" class=\"data row0 col2\" >0</td>\n",
       "      <td id=\"T_7f00e_row0_col3\" class=\"data row0 col3\" ></td>\n",
       "      <td id=\"T_7f00e_row0_col4\" class=\"data row0 col4\" ></td>\n",
       "      <td id=\"T_7f00e_row0_col5\" class=\"data row0 col5\" >2 rare categories: ['Lead Import', 'Quick Add Form']. Group them into a single category or drop the categories.</td>\n",
       "    </tr>\n",
       "    <tr>\n",
       "      <th id=\"T_7f00e_level0_row1\" class=\"row_heading level0 row1\" >Lead Source</th>\n",
       "      <td id=\"T_7f00e_row1_col0\" class=\"data row1 col0\" >object</td>\n",
       "      <td id=\"T_7f00e_row1_col1\" class=\"data row1 col1\" >0.414625</td>\n",
       "      <td id=\"T_7f00e_row1_col2\" class=\"data row1 col2\" >0</td>\n",
       "      <td id=\"T_7f00e_row1_col3\" class=\"data row1 col3\" ></td>\n",
       "      <td id=\"T_7f00e_row1_col4\" class=\"data row1 col4\" ></td>\n",
       "      <td id=\"T_7f00e_row1_col5\" class=\"data row1 col5\" >33 missing values. Impute them with mean, median, mode, or a constant value such as 123., 15 rare categories: Too many to list. Group them into a single category or drop the categories., Mixed dtypes: has 2 different data types:  object, float,</td>\n",
       "    </tr>\n",
       "    <tr>\n",
       "      <th id=\"T_7f00e_level0_row2\" class=\"row_heading level0 row2\" >Do Not Email</th>\n",
       "      <td id=\"T_7f00e_row2_col0\" class=\"data row2 col0\" >object</td>\n",
       "      <td id=\"T_7f00e_row2_col1\" class=\"data row2 col1\" >0.000000</td>\n",
       "      <td id=\"T_7f00e_row2_col2\" class=\"data row2 col2\" >0</td>\n",
       "      <td id=\"T_7f00e_row2_col3\" class=\"data row2 col3\" ></td>\n",
       "      <td id=\"T_7f00e_row2_col4\" class=\"data row2 col4\" ></td>\n",
       "      <td id=\"T_7f00e_row2_col5\" class=\"data row2 col5\" >No issue</td>\n",
       "    </tr>\n",
       "    <tr>\n",
       "      <th id=\"T_7f00e_level0_row3\" class=\"row_heading level0 row3\" >Do Not Call</th>\n",
       "      <td id=\"T_7f00e_row3_col0\" class=\"data row3 col0\" >object</td>\n",
       "      <td id=\"T_7f00e_row3_col1\" class=\"data row3 col1\" >0.000000</td>\n",
       "      <td id=\"T_7f00e_row3_col2\" class=\"data row3 col2\" >0</td>\n",
       "      <td id=\"T_7f00e_row3_col3\" class=\"data row3 col3\" ></td>\n",
       "      <td id=\"T_7f00e_row3_col4\" class=\"data row3 col4\" ></td>\n",
       "      <td id=\"T_7f00e_row3_col5\" class=\"data row3 col5\" >No issue</td>\n",
       "    </tr>\n",
       "    <tr>\n",
       "      <th id=\"T_7f00e_level0_row4\" class=\"row_heading level0 row4\" >TotalVisits</th>\n",
       "      <td id=\"T_7f00e_row4_col0\" class=\"data row4 col0\" >float64</td>\n",
       "      <td id=\"T_7f00e_row4_col1\" class=\"data row4 col1\" >1.721322</td>\n",
       "      <td id=\"T_7f00e_row4_col2\" class=\"data row4 col2\" >NA</td>\n",
       "      <td id=\"T_7f00e_row4_col3\" class=\"data row4 col3\" >0.000000</td>\n",
       "      <td id=\"T_7f00e_row4_col4\" class=\"data row4 col4\" >251.000000</td>\n",
       "      <td id=\"T_7f00e_row4_col5\" class=\"data row4 col5\" >137 missing values. Impute them with mean, median, mode, or a constant value such as 123., Column has 467 outliers greater than upper bound (9.50) or lower than lower bound(-2.50). Cap them or remove them.</td>\n",
       "    </tr>\n",
       "    <tr>\n",
       "      <th id=\"T_7f00e_level0_row5\" class=\"row_heading level0 row5\" >Total Time Spent on Website</th>\n",
       "      <td id=\"T_7f00e_row5_col0\" class=\"data row5 col0\" >int64</td>\n",
       "      <td id=\"T_7f00e_row5_col1\" class=\"data row5 col1\" >0.000000</td>\n",
       "      <td id=\"T_7f00e_row5_col2\" class=\"data row5 col2\" >21</td>\n",
       "      <td id=\"T_7f00e_row5_col3\" class=\"data row5 col3\" >0.000000</td>\n",
       "      <td id=\"T_7f00e_row5_col4\" class=\"data row5 col4\" >2272.000000</td>\n",
       "      <td id=\"T_7f00e_row5_col5\" class=\"data row5 col5\" >No issue</td>\n",
       "    </tr>\n",
       "    <tr>\n",
       "      <th id=\"T_7f00e_level0_row6\" class=\"row_heading level0 row6\" >Page Views Per Visit</th>\n",
       "      <td id=\"T_7f00e_row6_col0\" class=\"data row6 col0\" >float64</td>\n",
       "      <td id=\"T_7f00e_row6_col1\" class=\"data row6 col1\" >1.721322</td>\n",
       "      <td id=\"T_7f00e_row6_col2\" class=\"data row6 col2\" >NA</td>\n",
       "      <td id=\"T_7f00e_row6_col3\" class=\"data row6 col3\" >0.000000</td>\n",
       "      <td id=\"T_7f00e_row6_col4\" class=\"data row6 col4\" >55.000000</td>\n",
       "      <td id=\"T_7f00e_row6_col5\" class=\"data row6 col5\" >137 missing values. Impute them with mean, median, mode, or a constant value such as 123., Column has 209 outliers greater than upper bound (7.75) or lower than lower bound(-2.25). Cap them or remove them.</td>\n",
       "    </tr>\n",
       "    <tr>\n",
       "      <th id=\"T_7f00e_level0_row7\" class=\"row_heading level0 row7\" >Last Activity</th>\n",
       "      <td id=\"T_7f00e_row7_col0\" class=\"data row7 col0\" >object</td>\n",
       "      <td id=\"T_7f00e_row7_col1\" class=\"data row7 col1\" >1.294132</td>\n",
       "      <td id=\"T_7f00e_row7_col2\" class=\"data row7 col2\" >0</td>\n",
       "      <td id=\"T_7f00e_row7_col3\" class=\"data row7 col3\" ></td>\n",
       "      <td id=\"T_7f00e_row7_col4\" class=\"data row7 col4\" ></td>\n",
       "      <td id=\"T_7f00e_row7_col5\" class=\"data row7 col5\" >103 missing values. Impute them with mean, median, mode, or a constant value such as 123., 8 rare categories: ['Unsubscribed', 'Had a Phone Conversation', 'Approached upfront', 'View in browser link Clicked', 'Email Marked Spam', 'Email Received', 'Resubscribed to emails', 'Visited Booth in Tradeshow']. Group them into a single category or drop the categories., Mixed dtypes: has 2 different data types:  object, float,</td>\n",
       "    </tr>\n",
       "    <tr>\n",
       "      <th id=\"T_7f00e_level0_row8\" class=\"row_heading level0 row8\" >Country</th>\n",
       "      <td id=\"T_7f00e_row8_col0\" class=\"data row8 col0\" >object</td>\n",
       "      <td id=\"T_7f00e_row8_col1\" class=\"data row8 col1\" >14.825983</td>\n",
       "      <td id=\"T_7f00e_row8_col2\" class=\"data row8 col2\" >0</td>\n",
       "      <td id=\"T_7f00e_row8_col3\" class=\"data row8 col3\" ></td>\n",
       "      <td id=\"T_7f00e_row8_col4\" class=\"data row8 col4\" ></td>\n",
       "      <td id=\"T_7f00e_row8_col5\" class=\"data row8 col5\" >1180 missing values. Impute them with mean, median, mode, or a constant value such as 123., 36 rare categories: Too many to list. Group them into a single category or drop the categories., Mixed dtypes: has 2 different data types:  float, object,</td>\n",
       "    </tr>\n",
       "    <tr>\n",
       "      <th id=\"T_7f00e_level0_row9\" class=\"row_heading level0 row9\" >Specialization</th>\n",
       "      <td id=\"T_7f00e_row9_col0\" class=\"data row9 col0\" >object</td>\n",
       "      <td id=\"T_7f00e_row9_col1\" class=\"data row9 col1\" >8.782510</td>\n",
       "      <td id=\"T_7f00e_row9_col2\" class=\"data row9 col2\" >0</td>\n",
       "      <td id=\"T_7f00e_row9_col3\" class=\"data row9 col3\" ></td>\n",
       "      <td id=\"T_7f00e_row9_col4\" class=\"data row9 col4\" ></td>\n",
       "      <td id=\"T_7f00e_row9_col5\" class=\"data row9 col5\" >699 missing values. Impute them with mean, median, mode, or a constant value such as 123., 2 rare categories: ['E-Business', 'Services Excellence']. Group them into a single category or drop the categories., Mixed dtypes: has 2 different data types:  object, float,</td>\n",
       "    </tr>\n",
       "    <tr>\n",
       "      <th id=\"T_7f00e_level0_row10\" class=\"row_heading level0 row10\" >How did you hear about X Education</th>\n",
       "      <td id=\"T_7f00e_row10_col0\" class=\"data row10 col0\" >object</td>\n",
       "      <td id=\"T_7f00e_row10_col1\" class=\"data row10 col1\" >18.444528</td>\n",
       "      <td id=\"T_7f00e_row10_col2\" class=\"data row10 col2\" >0</td>\n",
       "      <td id=\"T_7f00e_row10_col3\" class=\"data row10 col3\" ></td>\n",
       "      <td id=\"T_7f00e_row10_col4\" class=\"data row10 col4\" ></td>\n",
       "      <td id=\"T_7f00e_row10_col5\" class=\"data row10 col5\" >1468 missing values. Impute them with mean, median, mode, or a constant value such as 123., 2 rare categories: ['Email', 'SMS']. Group them into a single category or drop the categories., Mixed dtypes: has 2 different data types:  object, float,</td>\n",
       "    </tr>\n",
       "    <tr>\n",
       "      <th id=\"T_7f00e_level0_row11\" class=\"row_heading level0 row11\" >What is your current occupation</th>\n",
       "      <td id=\"T_7f00e_row11_col0\" class=\"data row11 col0\" >object</td>\n",
       "      <td id=\"T_7f00e_row11_col1\" class=\"data row11 col1\" >24.513130</td>\n",
       "      <td id=\"T_7f00e_row11_col2\" class=\"data row11 col2\" >0</td>\n",
       "      <td id=\"T_7f00e_row11_col3\" class=\"data row11 col3\" ></td>\n",
       "      <td id=\"T_7f00e_row11_col4\" class=\"data row11 col4\" ></td>\n",
       "      <td id=\"T_7f00e_row11_col5\" class=\"data row11 col5\" >1951 missing values. Impute them with mean, median, mode, or a constant value such as 123., 3 rare categories: ['Other', 'Housewife', 'Businessman']. Group them into a single category or drop the categories., Mixed dtypes: has 2 different data types:  object, float,</td>\n",
       "    </tr>\n",
       "    <tr>\n",
       "      <th id=\"T_7f00e_level0_row12\" class=\"row_heading level0 row12\" >What matters most to you in choosing a course</th>\n",
       "      <td id=\"T_7f00e_row12_col0\" class=\"data row12 col0\" >object</td>\n",
       "      <td id=\"T_7f00e_row12_col1\" class=\"data row12 col1\" >24.751853</td>\n",
       "      <td id=\"T_7f00e_row12_col2\" class=\"data row12 col2\" >0</td>\n",
       "      <td id=\"T_7f00e_row12_col3\" class=\"data row12 col3\" ></td>\n",
       "      <td id=\"T_7f00e_row12_col4\" class=\"data row12 col4\" ></td>\n",
       "      <td id=\"T_7f00e_row12_col5\" class=\"data row12 col5\" >1970 missing values. Impute them with mean, median, mode, or a constant value such as 123., 2 rare categories: ['Flexibility & Convenience', 'Other']. Group them into a single category or drop the categories., Mixed dtypes: has 2 different data types:  object, float,</td>\n",
       "    </tr>\n",
       "    <tr>\n",
       "      <th id=\"T_7f00e_level0_row13\" class=\"row_heading level0 row13\" >Search</th>\n",
       "      <td id=\"T_7f00e_row13_col0\" class=\"data row13 col0\" >object</td>\n",
       "      <td id=\"T_7f00e_row13_col1\" class=\"data row13 col1\" >0.000000</td>\n",
       "      <td id=\"T_7f00e_row13_col2\" class=\"data row13 col2\" >0</td>\n",
       "      <td id=\"T_7f00e_row13_col3\" class=\"data row13 col3\" ></td>\n",
       "      <td id=\"T_7f00e_row13_col4\" class=\"data row13 col4\" ></td>\n",
       "      <td id=\"T_7f00e_row13_col5\" class=\"data row13 col5\" >No issue</td>\n",
       "    </tr>\n",
       "    <tr>\n",
       "      <th id=\"T_7f00e_level0_row14\" class=\"row_heading level0 row14\" >Newspaper Article</th>\n",
       "      <td id=\"T_7f00e_row14_col0\" class=\"data row14 col0\" >object</td>\n",
       "      <td id=\"T_7f00e_row14_col1\" class=\"data row14 col1\" >0.000000</td>\n",
       "      <td id=\"T_7f00e_row14_col2\" class=\"data row14 col2\" >0</td>\n",
       "      <td id=\"T_7f00e_row14_col3\" class=\"data row14 col3\" ></td>\n",
       "      <td id=\"T_7f00e_row14_col4\" class=\"data row14 col4\" ></td>\n",
       "      <td id=\"T_7f00e_row14_col5\" class=\"data row14 col5\" >No issue</td>\n",
       "    </tr>\n",
       "    <tr>\n",
       "      <th id=\"T_7f00e_level0_row15\" class=\"row_heading level0 row15\" >X Education Forums</th>\n",
       "      <td id=\"T_7f00e_row15_col0\" class=\"data row15 col0\" >object</td>\n",
       "      <td id=\"T_7f00e_row15_col1\" class=\"data row15 col1\" >0.000000</td>\n",
       "      <td id=\"T_7f00e_row15_col2\" class=\"data row15 col2\" >0</td>\n",
       "      <td id=\"T_7f00e_row15_col3\" class=\"data row15 col3\" ></td>\n",
       "      <td id=\"T_7f00e_row15_col4\" class=\"data row15 col4\" ></td>\n",
       "      <td id=\"T_7f00e_row15_col5\" class=\"data row15 col5\" >No issue</td>\n",
       "    </tr>\n",
       "    <tr>\n",
       "      <th id=\"T_7f00e_level0_row16\" class=\"row_heading level0 row16\" >Newspaper</th>\n",
       "      <td id=\"T_7f00e_row16_col0\" class=\"data row16 col0\" >object</td>\n",
       "      <td id=\"T_7f00e_row16_col1\" class=\"data row16 col1\" >0.000000</td>\n",
       "      <td id=\"T_7f00e_row16_col2\" class=\"data row16 col2\" >0</td>\n",
       "      <td id=\"T_7f00e_row16_col3\" class=\"data row16 col3\" ></td>\n",
       "      <td id=\"T_7f00e_row16_col4\" class=\"data row16 col4\" ></td>\n",
       "      <td id=\"T_7f00e_row16_col5\" class=\"data row16 col5\" >No issue</td>\n",
       "    </tr>\n",
       "    <tr>\n",
       "      <th id=\"T_7f00e_level0_row17\" class=\"row_heading level0 row17\" >Digital Advertisement</th>\n",
       "      <td id=\"T_7f00e_row17_col0\" class=\"data row17 col0\" >object</td>\n",
       "      <td id=\"T_7f00e_row17_col1\" class=\"data row17 col1\" >0.000000</td>\n",
       "      <td id=\"T_7f00e_row17_col2\" class=\"data row17 col2\" >0</td>\n",
       "      <td id=\"T_7f00e_row17_col3\" class=\"data row17 col3\" ></td>\n",
       "      <td id=\"T_7f00e_row17_col4\" class=\"data row17 col4\" ></td>\n",
       "      <td id=\"T_7f00e_row17_col5\" class=\"data row17 col5\" >No issue</td>\n",
       "    </tr>\n",
       "    <tr>\n",
       "      <th id=\"T_7f00e_level0_row18\" class=\"row_heading level0 row18\" >Through Recommendations</th>\n",
       "      <td id=\"T_7f00e_row18_col0\" class=\"data row18 col0\" >object</td>\n",
       "      <td id=\"T_7f00e_row18_col1\" class=\"data row18 col1\" >0.000000</td>\n",
       "      <td id=\"T_7f00e_row18_col2\" class=\"data row18 col2\" >0</td>\n",
       "      <td id=\"T_7f00e_row18_col3\" class=\"data row18 col3\" ></td>\n",
       "      <td id=\"T_7f00e_row18_col4\" class=\"data row18 col4\" ></td>\n",
       "      <td id=\"T_7f00e_row18_col5\" class=\"data row18 col5\" >No issue</td>\n",
       "    </tr>\n",
       "    <tr>\n",
       "      <th id=\"T_7f00e_level0_row19\" class=\"row_heading level0 row19\" >Tags</th>\n",
       "      <td id=\"T_7f00e_row19_col0\" class=\"data row19 col0\" >object</td>\n",
       "      <td id=\"T_7f00e_row19_col1\" class=\"data row19 col1\" >30.179671</td>\n",
       "      <td id=\"T_7f00e_row19_col2\" class=\"data row19 col2\" >0</td>\n",
       "      <td id=\"T_7f00e_row19_col3\" class=\"data row19 col3\" ></td>\n",
       "      <td id=\"T_7f00e_row19_col4\" class=\"data row19 col4\" ></td>\n",
       "      <td id=\"T_7f00e_row19_col5\" class=\"data row19 col5\" >2402 missing values. Impute them with mean, median, mode, or a constant value such as 123., 13 rare categories: Too many to list. Group them into a single category or drop the categories., Mixed dtypes: has 2 different data types:  object, float,</td>\n",
       "    </tr>\n",
       "    <tr>\n",
       "      <th id=\"T_7f00e_level0_row20\" class=\"row_heading level0 row20\" >Lead Quality</th>\n",
       "      <td id=\"T_7f00e_row20_col0\" class=\"data row20 col0\" >object</td>\n",
       "      <td id=\"T_7f00e_row20_col1\" class=\"data row20 col1\" >46.551074</td>\n",
       "      <td id=\"T_7f00e_row20_col2\" class=\"data row20 col2\" >0</td>\n",
       "      <td id=\"T_7f00e_row20_col3\" class=\"data row20 col3\" ></td>\n",
       "      <td id=\"T_7f00e_row20_col4\" class=\"data row20 col4\" ></td>\n",
       "      <td id=\"T_7f00e_row20_col5\" class=\"data row20 col5\" >3705 missing values. Impute them with mean, median, mode, or a constant value such as 123., Mixed dtypes: has 2 different data types:  object, float,</td>\n",
       "    </tr>\n",
       "    <tr>\n",
       "      <th id=\"T_7f00e_level0_row21\" class=\"row_heading level0 row21\" >Lead Profile</th>\n",
       "      <td id=\"T_7f00e_row21_col0\" class=\"data row21 col0\" >object</td>\n",
       "      <td id=\"T_7f00e_row21_col1\" class=\"data row21 col1\" >24.751853</td>\n",
       "      <td id=\"T_7f00e_row21_col2\" class=\"data row21 col2\" >0</td>\n",
       "      <td id=\"T_7f00e_row21_col3\" class=\"data row21 col3\" ></td>\n",
       "      <td id=\"T_7f00e_row21_col4\" class=\"data row21 col4\" ></td>\n",
       "      <td id=\"T_7f00e_row21_col5\" class=\"data row21 col5\" >1970 missing values. Impute them with mean, median, mode, or a constant value such as 123., 2 rare categories: ['Lateral Student', 'Dual Specialization Student']. Group them into a single category or drop the categories., Mixed dtypes: has 2 different data types:  object, float,</td>\n",
       "    </tr>\n",
       "    <tr>\n",
       "      <th id=\"T_7f00e_level0_row22\" class=\"row_heading level0 row22\" >City</th>\n",
       "      <td id=\"T_7f00e_row22_col0\" class=\"data row22 col0\" >object</td>\n",
       "      <td id=\"T_7f00e_row22_col1\" class=\"data row22 col1\" >8.568916</td>\n",
       "      <td id=\"T_7f00e_row22_col2\" class=\"data row22 col2\" >0</td>\n",
       "      <td id=\"T_7f00e_row22_col3\" class=\"data row22 col3\" ></td>\n",
       "      <td id=\"T_7f00e_row22_col4\" class=\"data row22 col4\" ></td>\n",
       "      <td id=\"T_7f00e_row22_col5\" class=\"data row22 col5\" >682 missing values. Impute them with mean, median, mode, or a constant value such as 123., Mixed dtypes: has 2 different data types:  object, float,</td>\n",
       "    </tr>\n",
       "    <tr>\n",
       "      <th id=\"T_7f00e_level0_row23\" class=\"row_heading level0 row23\" >Asymmetrique Activity Index</th>\n",
       "      <td id=\"T_7f00e_row23_col0\" class=\"data row23 col0\" >object</td>\n",
       "      <td id=\"T_7f00e_row23_col1\" class=\"data row23 col1\" >44.163840</td>\n",
       "      <td id=\"T_7f00e_row23_col2\" class=\"data row23 col2\" >0</td>\n",
       "      <td id=\"T_7f00e_row23_col3\" class=\"data row23 col3\" ></td>\n",
       "      <td id=\"T_7f00e_row23_col4\" class=\"data row23 col4\" ></td>\n",
       "      <td id=\"T_7f00e_row23_col5\" class=\"data row23 col5\" >3515 missing values. Impute them with mean, median, mode, or a constant value such as 123., Mixed dtypes: has 2 different data types:  object, float,</td>\n",
       "    </tr>\n",
       "    <tr>\n",
       "      <th id=\"T_7f00e_level0_row24\" class=\"row_heading level0 row24\" >Asymmetrique Profile Index</th>\n",
       "      <td id=\"T_7f00e_row24_col0\" class=\"data row24 col0\" >object</td>\n",
       "      <td id=\"T_7f00e_row24_col1\" class=\"data row24 col1\" >44.163840</td>\n",
       "      <td id=\"T_7f00e_row24_col2\" class=\"data row24 col2\" >0</td>\n",
       "      <td id=\"T_7f00e_row24_col3\" class=\"data row24 col3\" ></td>\n",
       "      <td id=\"T_7f00e_row24_col4\" class=\"data row24 col4\" ></td>\n",
       "      <td id=\"T_7f00e_row24_col5\" class=\"data row24 col5\" >3515 missing values. Impute them with mean, median, mode, or a constant value such as 123., 1 rare categories: ['03.Low']. Group them into a single category or drop the categories., Mixed dtypes: has 2 different data types:  object, float,</td>\n",
       "    </tr>\n",
       "    <tr>\n",
       "      <th id=\"T_7f00e_level0_row25\" class=\"row_heading level0 row25\" >Asymmetrique Activity Score</th>\n",
       "      <td id=\"T_7f00e_row25_col0\" class=\"data row25 col0\" >float64</td>\n",
       "      <td id=\"T_7f00e_row25_col1\" class=\"data row25 col1\" >44.163840</td>\n",
       "      <td id=\"T_7f00e_row25_col2\" class=\"data row25 col2\" >NA</td>\n",
       "      <td id=\"T_7f00e_row25_col3\" class=\"data row25 col3\" >7.000000</td>\n",
       "      <td id=\"T_7f00e_row25_col4\" class=\"data row25 col4\" >18.000000</td>\n",
       "      <td id=\"T_7f00e_row25_col5\" class=\"data row25 col5\" >3515 missing values. Impute them with mean, median, mode, or a constant value such as 123., Column has 14 outliers greater than upper bound (18.00) or lower than lower bound(10.00). Cap them or remove them.</td>\n",
       "    </tr>\n",
       "    <tr>\n",
       "      <th id=\"T_7f00e_level0_row26\" class=\"row_heading level0 row26\" >Asymmetrique Profile Score</th>\n",
       "      <td id=\"T_7f00e_row26_col0\" class=\"data row26 col0\" >float64</td>\n",
       "      <td id=\"T_7f00e_row26_col1\" class=\"data row26 col1\" >44.163840</td>\n",
       "      <td id=\"T_7f00e_row26_col2\" class=\"data row26 col2\" >NA</td>\n",
       "      <td id=\"T_7f00e_row26_col3\" class=\"data row26 col3\" >11.000000</td>\n",
       "      <td id=\"T_7f00e_row26_col4\" class=\"data row26 col4\" >20.000000</td>\n",
       "      <td id=\"T_7f00e_row26_col5\" class=\"data row26 col5\" >3515 missing values. Impute them with mean, median, mode, or a constant value such as 123.</td>\n",
       "    </tr>\n",
       "    <tr>\n",
       "      <th id=\"T_7f00e_level0_row27\" class=\"row_heading level0 row27\" >A free copy of Mastering The Interview</th>\n",
       "      <td id=\"T_7f00e_row27_col0\" class=\"data row27 col0\" >object</td>\n",
       "      <td id=\"T_7f00e_row27_col1\" class=\"data row27 col1\" >0.000000</td>\n",
       "      <td id=\"T_7f00e_row27_col2\" class=\"data row27 col2\" >0</td>\n",
       "      <td id=\"T_7f00e_row27_col3\" class=\"data row27 col3\" ></td>\n",
       "      <td id=\"T_7f00e_row27_col4\" class=\"data row27 col4\" ></td>\n",
       "      <td id=\"T_7f00e_row27_col5\" class=\"data row27 col5\" >No issue</td>\n",
       "    </tr>\n",
       "    <tr>\n",
       "      <th id=\"T_7f00e_level0_row28\" class=\"row_heading level0 row28\" >Last Notable Activity</th>\n",
       "      <td id=\"T_7f00e_row28_col0\" class=\"data row28 col0\" >object</td>\n",
       "      <td id=\"T_7f00e_row28_col1\" class=\"data row28 col1\" >0.000000</td>\n",
       "      <td id=\"T_7f00e_row28_col2\" class=\"data row28 col2\" >0</td>\n",
       "      <td id=\"T_7f00e_row28_col3\" class=\"data row28 col3\" ></td>\n",
       "      <td id=\"T_7f00e_row28_col4\" class=\"data row28 col4\" ></td>\n",
       "      <td id=\"T_7f00e_row28_col5\" class=\"data row28 col5\" >10 rare categories: ['Email Bounced', 'Unsubscribed', 'Unreachable', 'Had a Phone Conversation', 'Email Marked Spam', 'Approached upfront', 'Resubscribed to emails', 'View in browser link Clicked', 'Form Submitted on Website', 'Email Received']. Group them into a single category or drop the categories.</td>\n",
       "    </tr>\n",
       "    <tr>\n",
       "      <th id=\"T_7f00e_level0_row29\" class=\"row_heading level0 row29\" >Converted</th>\n",
       "      <td id=\"T_7f00e_row29_col0\" class=\"data row29 col0\" >int64</td>\n",
       "      <td id=\"T_7f00e_row29_col1\" class=\"data row29 col1\" >0.000000</td>\n",
       "      <td id=\"T_7f00e_row29_col2\" class=\"data row29 col2\" >0</td>\n",
       "      <td id=\"T_7f00e_row29_col3\" class=\"data row29 col3\" >0.000000</td>\n",
       "      <td id=\"T_7f00e_row29_col4\" class=\"data row29 col4\" >1.000000</td>\n",
       "      <td id=\"T_7f00e_row29_col5\" class=\"data row29 col5\" >Target column</td>\n",
       "    </tr>\n",
       "  </tbody>\n",
       "</table>\n"
      ],
      "text/plain": [
       "<pandas.io.formats.style.Styler at 0x1e625ca94d0>"
      ]
     },
     "metadata": {},
     "output_type": "display_data"
    },
    {
     "name": "stdout",
     "output_type": "stream",
     "text": [
      "Total Number of Scatter Plots = 10\n",
      "All Plots done\n",
      "Time to run AutoViz = 16 seconds \n",
      "\n",
      " ###################### AUTO VISUALIZATION Completed ########################\n"
     ]
    }
   ],
   "source": [
    "# We are doing AutoEda with the help of AutoViz\n",
    "\n",
    "AV = AutoViz_Class()\n",
    "\n",
    "\n",
    "av_result = AV.AutoViz(\n",
    "    filename=\"Lead Scoring.csv\",\n",
    "    sep=\",\",\n",
    "    depVar=\"Converted\",       # Leave blank if you're just exploring, or specify target column name\n",
    "    dfte=None,       # Not passing DataFrame directly\n",
    "    header=0,\n",
    "    verbose=1,\n",
    "    lowess=False,\n",
    "    chart_format='svg',\n",
    "    max_rows_analyzed=150000,\n",
    "    max_cols_analyzed=50\n",
    ")\n"
   ]
  },
  {
   "cell_type": "code",
   "execution_count": 6,
   "id": "5b11fe7f",
   "metadata": {},
   "outputs": [
    {
     "data": {
      "text/html": [
       "<div>\n",
       "<style scoped>\n",
       "    .dataframe tbody tr th:only-of-type {\n",
       "        vertical-align: middle;\n",
       "    }\n",
       "\n",
       "    .dataframe tbody tr th {\n",
       "        vertical-align: top;\n",
       "    }\n",
       "\n",
       "    .dataframe thead th {\n",
       "        text-align: right;\n",
       "    }\n",
       "</style>\n",
       "<table border=\"1\" class=\"dataframe\">\n",
       "  <thead>\n",
       "    <tr style=\"text-align: center;\">\n",
       "      <th></th>\n",
       "      <th>Prospect ID</th>\n",
       "      <th>Lead Number</th>\n",
       "      <th>Lead Origin</th>\n",
       "      <th>Lead Source</th>\n",
       "      <th>Do Not Email</th>\n",
       "      <th>Do Not Call</th>\n",
       "      <th>Converted</th>\n",
       "      <th>TotalVisits</th>\n",
       "      <th>Total Time Spent on Website</th>\n",
       "      <th>Page Views Per Visit</th>\n",
       "      <th>Last Activity</th>\n",
       "      <th>Country</th>\n",
       "      <th>Specialization</th>\n",
       "      <th>How did you hear about X Education</th>\n",
       "      <th>What is your current occupation</th>\n",
       "      <th>What matters most to you in choosing a course</th>\n",
       "      <th>Search</th>\n",
       "      <th>Magazine</th>\n",
       "      <th>Newspaper Article</th>\n",
       "      <th>X Education Forums</th>\n",
       "      <th>Newspaper</th>\n",
       "      <th>Digital Advertisement</th>\n",
       "      <th>Through Recommendations</th>\n",
       "      <th>Receive More Updates About Our Courses</th>\n",
       "      <th>Tags</th>\n",
       "      <th>Lead Quality</th>\n",
       "      <th>Update me on Supply Chain Content</th>\n",
       "      <th>Get updates on DM Content</th>\n",
       "      <th>Lead Profile</th>\n",
       "      <th>City</th>\n",
       "      <th>Asymmetrique Activity Index</th>\n",
       "      <th>Asymmetrique Profile Index</th>\n",
       "      <th>Asymmetrique Activity Score</th>\n",
       "      <th>Asymmetrique Profile Score</th>\n",
       "      <th>I agree to pay the amount through cheque</th>\n",
       "      <th>A free copy of Mastering The Interview</th>\n",
       "      <th>Last Notable Activity</th>\n",
       "    </tr>\n",
       "  </thead>\n",
       "  <tbody>\n",
       "    <tr>\n",
       "      <th>0</th>\n",
       "      <td>7927b2df-8bba-4d29-b9a2-b6e0beafe620</td>\n",
       "      <td>660737</td>\n",
       "      <td>API</td>\n",
       "      <td>Olark Chat</td>\n",
       "      <td>No</td>\n",
       "      <td>No</td>\n",
       "      <td>0</td>\n",
       "      <td>0.0</td>\n",
       "      <td>0</td>\n",
       "      <td>0.0</td>\n",
       "      <td>Page Visited on Website</td>\n",
       "      <td>NaN</td>\n",
       "      <td>Select</td>\n",
       "      <td>Select</td>\n",
       "      <td>Unemployed</td>\n",
       "      <td>Better Career Prospects</td>\n",
       "      <td>No</td>\n",
       "      <td>No</td>\n",
       "      <td>No</td>\n",
       "      <td>No</td>\n",
       "      <td>No</td>\n",
       "      <td>No</td>\n",
       "      <td>No</td>\n",
       "      <td>No</td>\n",
       "      <td>Interested in other courses</td>\n",
       "      <td>Low in Relevance</td>\n",
       "      <td>No</td>\n",
       "      <td>No</td>\n",
       "      <td>Select</td>\n",
       "      <td>Select</td>\n",
       "      <td>02.Medium</td>\n",
       "      <td>02.Medium</td>\n",
       "      <td>15.0</td>\n",
       "      <td>15.0</td>\n",
       "      <td>No</td>\n",
       "      <td>No</td>\n",
       "      <td>Modified</td>\n",
       "    </tr>\n",
       "    <tr>\n",
       "      <th>1</th>\n",
       "      <td>2a272436-5132-4136-86fa-dcc88c88f482</td>\n",
       "      <td>660728</td>\n",
       "      <td>API</td>\n",
       "      <td>Organic Search</td>\n",
       "      <td>No</td>\n",
       "      <td>No</td>\n",
       "      <td>0</td>\n",
       "      <td>5.0</td>\n",
       "      <td>674</td>\n",
       "      <td>2.5</td>\n",
       "      <td>Email Opened</td>\n",
       "      <td>India</td>\n",
       "      <td>Select</td>\n",
       "      <td>Select</td>\n",
       "      <td>Unemployed</td>\n",
       "      <td>Better Career Prospects</td>\n",
       "      <td>No</td>\n",
       "      <td>No</td>\n",
       "      <td>No</td>\n",
       "      <td>No</td>\n",
       "      <td>No</td>\n",
       "      <td>No</td>\n",
       "      <td>No</td>\n",
       "      <td>No</td>\n",
       "      <td>Ringing</td>\n",
       "      <td>NaN</td>\n",
       "      <td>No</td>\n",
       "      <td>No</td>\n",
       "      <td>Select</td>\n",
       "      <td>Select</td>\n",
       "      <td>02.Medium</td>\n",
       "      <td>02.Medium</td>\n",
       "      <td>15.0</td>\n",
       "      <td>15.0</td>\n",
       "      <td>No</td>\n",
       "      <td>No</td>\n",
       "      <td>Email Opened</td>\n",
       "    </tr>\n",
       "    <tr>\n",
       "      <th>2</th>\n",
       "      <td>8cc8c611-a219-4f35-ad23-fdfd2656bd8a</td>\n",
       "      <td>660727</td>\n",
       "      <td>Landing Page Submission</td>\n",
       "      <td>Direct Traffic</td>\n",
       "      <td>No</td>\n",
       "      <td>No</td>\n",
       "      <td>1</td>\n",
       "      <td>2.0</td>\n",
       "      <td>1532</td>\n",
       "      <td>2.0</td>\n",
       "      <td>Email Opened</td>\n",
       "      <td>India</td>\n",
       "      <td>Business Administration</td>\n",
       "      <td>Select</td>\n",
       "      <td>Student</td>\n",
       "      <td>Better Career Prospects</td>\n",
       "      <td>No</td>\n",
       "      <td>No</td>\n",
       "      <td>No</td>\n",
       "      <td>No</td>\n",
       "      <td>No</td>\n",
       "      <td>No</td>\n",
       "      <td>No</td>\n",
       "      <td>No</td>\n",
       "      <td>Will revert after reading the email</td>\n",
       "      <td>Might be</td>\n",
       "      <td>No</td>\n",
       "      <td>No</td>\n",
       "      <td>Potential Lead</td>\n",
       "      <td>Mumbai</td>\n",
       "      <td>02.Medium</td>\n",
       "      <td>01.High</td>\n",
       "      <td>14.0</td>\n",
       "      <td>20.0</td>\n",
       "      <td>No</td>\n",
       "      <td>Yes</td>\n",
       "      <td>Email Opened</td>\n",
       "    </tr>\n",
       "    <tr>\n",
       "      <th>3</th>\n",
       "      <td>0cc2df48-7cf4-4e39-9de9-19797f9b38cc</td>\n",
       "      <td>660719</td>\n",
       "      <td>Landing Page Submission</td>\n",
       "      <td>Direct Traffic</td>\n",
       "      <td>No</td>\n",
       "      <td>No</td>\n",
       "      <td>0</td>\n",
       "      <td>1.0</td>\n",
       "      <td>305</td>\n",
       "      <td>1.0</td>\n",
       "      <td>Unreachable</td>\n",
       "      <td>India</td>\n",
       "      <td>Media and Advertising</td>\n",
       "      <td>Word Of Mouth</td>\n",
       "      <td>Unemployed</td>\n",
       "      <td>Better Career Prospects</td>\n",
       "      <td>No</td>\n",
       "      <td>No</td>\n",
       "      <td>No</td>\n",
       "      <td>No</td>\n",
       "      <td>No</td>\n",
       "      <td>No</td>\n",
       "      <td>No</td>\n",
       "      <td>No</td>\n",
       "      <td>Ringing</td>\n",
       "      <td>Not Sure</td>\n",
       "      <td>No</td>\n",
       "      <td>No</td>\n",
       "      <td>Select</td>\n",
       "      <td>Mumbai</td>\n",
       "      <td>02.Medium</td>\n",
       "      <td>01.High</td>\n",
       "      <td>13.0</td>\n",
       "      <td>17.0</td>\n",
       "      <td>No</td>\n",
       "      <td>No</td>\n",
       "      <td>Modified</td>\n",
       "    </tr>\n",
       "    <tr>\n",
       "      <th>4</th>\n",
       "      <td>3256f628-e534-4826-9d63-4a8b88782852</td>\n",
       "      <td>660681</td>\n",
       "      <td>Landing Page Submission</td>\n",
       "      <td>Google</td>\n",
       "      <td>No</td>\n",
       "      <td>No</td>\n",
       "      <td>1</td>\n",
       "      <td>2.0</td>\n",
       "      <td>1428</td>\n",
       "      <td>1.0</td>\n",
       "      <td>Converted to Lead</td>\n",
       "      <td>India</td>\n",
       "      <td>Select</td>\n",
       "      <td>Other</td>\n",
       "      <td>Unemployed</td>\n",
       "      <td>Better Career Prospects</td>\n",
       "      <td>No</td>\n",
       "      <td>No</td>\n",
       "      <td>No</td>\n",
       "      <td>No</td>\n",
       "      <td>No</td>\n",
       "      <td>No</td>\n",
       "      <td>No</td>\n",
       "      <td>No</td>\n",
       "      <td>Will revert after reading the email</td>\n",
       "      <td>Might be</td>\n",
       "      <td>No</td>\n",
       "      <td>No</td>\n",
       "      <td>Select</td>\n",
       "      <td>Mumbai</td>\n",
       "      <td>02.Medium</td>\n",
       "      <td>01.High</td>\n",
       "      <td>15.0</td>\n",
       "      <td>18.0</td>\n",
       "      <td>No</td>\n",
       "      <td>No</td>\n",
       "      <td>Modified</td>\n",
       "    </tr>\n",
       "  </tbody>\n",
       "</table>\n",
       "</div>"
      ],
      "text/plain": [
       "               Prospect ID               Lead Number       Lead Origin         \\\n",
       "0  7927b2df-8bba-4d29-b9a2-b6e0beafe620    660737                         API   \n",
       "1  2a272436-5132-4136-86fa-dcc88c88f482    660728                         API   \n",
       "2  8cc8c611-a219-4f35-ad23-fdfd2656bd8a    660727     Landing Page Submission   \n",
       "3  0cc2df48-7cf4-4e39-9de9-19797f9b38cc    660719     Landing Page Submission   \n",
       "4  3256f628-e534-4826-9d63-4a8b88782852    660681     Landing Page Submission   \n",
       "\n",
       "    Lead Source   Do Not Email Do Not Call  Converted  TotalVisits  \\\n",
       "0      Olark Chat      No           No          0          0.0       \n",
       "1  Organic Search      No           No          0          5.0       \n",
       "2  Direct Traffic      No           No          1          2.0       \n",
       "3  Direct Traffic      No           No          0          1.0       \n",
       "4          Google      No           No          1          2.0       \n",
       "\n",
       "   Total Time Spent on Website  Page Views Per Visit      Last Activity        \\\n",
       "0                0                       0.0          Page Visited on Website   \n",
       "1              674                       2.5                     Email Opened   \n",
       "2             1532                       2.0                     Email Opened   \n",
       "3              305                       1.0                      Unreachable   \n",
       "4             1428                       1.0                Converted to Lead   \n",
       "\n",
       "  Country      Specialization      How did you hear about X Education  \\\n",
       "0     NaN                   Select                   Select             \n",
       "1   India                   Select                   Select             \n",
       "2   India  Business Administration                   Select             \n",
       "3   India    Media and Advertising            Word Of Mouth             \n",
       "4   India                   Select                    Other             \n",
       "\n",
       "  What is your current occupation  \\\n",
       "0            Unemployed             \n",
       "1            Unemployed             \n",
       "2               Student             \n",
       "3            Unemployed             \n",
       "4            Unemployed             \n",
       "\n",
       "  What matters most to you in choosing a course Search Magazine  \\\n",
       "0             Better Career Prospects             No      No      \n",
       "1             Better Career Prospects             No      No      \n",
       "2             Better Career Prospects             No      No      \n",
       "3             Better Career Prospects             No      No      \n",
       "4             Better Career Prospects             No      No      \n",
       "\n",
       "  Newspaper Article X Education Forums Newspaper Digital Advertisement  \\\n",
       "0         No                No             No              No            \n",
       "1         No                No             No              No            \n",
       "2         No                No             No              No            \n",
       "3         No                No             No              No            \n",
       "4         No                No             No              No            \n",
       "\n",
       "  Through Recommendations Receive More Updates About Our Courses  \\\n",
       "0            No                             No                     \n",
       "1            No                             No                     \n",
       "2            No                             No                     \n",
       "3            No                             No                     \n",
       "4            No                             No                     \n",
       "\n",
       "                  Tags                    Lead Quality    \\\n",
       "0          Interested in other courses  Low in Relevance   \n",
       "1                              Ringing               NaN   \n",
       "2  Will revert after reading the email          Might be   \n",
       "3                              Ringing          Not Sure   \n",
       "4  Will revert after reading the email          Might be   \n",
       "\n",
       "  Update me on Supply Chain Content Get updates on DM Content   Lead Profile   \\\n",
       "0                 No                            No                     Select   \n",
       "1                 No                            No                     Select   \n",
       "2                 No                            No             Potential Lead   \n",
       "3                 No                            No                     Select   \n",
       "4                 No                            No                     Select   \n",
       "\n",
       "    City  Asymmetrique Activity Index Asymmetrique Profile Index  \\\n",
       "0  Select           02.Medium                  02.Medium           \n",
       "1  Select           02.Medium                  02.Medium           \n",
       "2  Mumbai           02.Medium                    01.High           \n",
       "3  Mumbai           02.Medium                    01.High           \n",
       "4  Mumbai           02.Medium                    01.High           \n",
       "\n",
       "   Asymmetrique Activity Score  Asymmetrique Profile Score  \\\n",
       "0             15.0                         15.0              \n",
       "1             15.0                         15.0              \n",
       "2             14.0                         20.0              \n",
       "3             13.0                         17.0              \n",
       "4             15.0                         18.0              \n",
       "\n",
       "  I agree to pay the amount through cheque  \\\n",
       "0                    No                      \n",
       "1                    No                      \n",
       "2                    No                      \n",
       "3                    No                      \n",
       "4                    No                      \n",
       "\n",
       "  A free copy of Mastering The Interview Last Notable Activity  \n",
       "0                    No                           Modified      \n",
       "1                    No                       Email Opened      \n",
       "2                   Yes                       Email Opened      \n",
       "3                    No                           Modified      \n",
       "4                    No                           Modified      "
      ]
     },
     "execution_count": 6,
     "metadata": {},
     "output_type": "execute_result"
    }
   ],
   "source": [
    "df.head()"
   ]
  },
  {
   "cell_type": "markdown",
   "id": "59effe65",
   "metadata": {},
   "source": [
    "<h3>Information about all the rows and their data types </h3>"
   ]
  },
  {
   "cell_type": "code",
   "execution_count": 7,
   "id": "0ff701c6",
   "metadata": {},
   "outputs": [
    {
     "name": "stdout",
     "output_type": "stream",
     "text": [
      "<class 'pandas.core.frame.DataFrame'>\n",
      "RangeIndex: 9240 entries, 0 to 9239\n",
      "Data columns (total 37 columns):\n",
      " #   Column                                         Non-Null Count  Dtype  \n",
      "---  ------                                         --------------  -----  \n",
      " 0   Prospect ID                                    9240 non-null   object \n",
      " 1   Lead Number                                    9240 non-null   int64  \n",
      " 2   Lead Origin                                    9240 non-null   object \n",
      " 3   Lead Source                                    9204 non-null   object \n",
      " 4   Do Not Email                                   9240 non-null   object \n",
      " 5   Do Not Call                                    9240 non-null   object \n",
      " 6   Converted                                      9240 non-null   int64  \n",
      " 7   TotalVisits                                    9103 non-null   float64\n",
      " 8   Total Time Spent on Website                    9240 non-null   int64  \n",
      " 9   Page Views Per Visit                           9103 non-null   float64\n",
      " 10  Last Activity                                  9137 non-null   object \n",
      " 11  Country                                        6779 non-null   object \n",
      " 12  Specialization                                 7802 non-null   object \n",
      " 13  How did you hear about X Education             7033 non-null   object \n",
      " 14  What is your current occupation                6550 non-null   object \n",
      " 15  What matters most to you in choosing a course  6531 non-null   object \n",
      " 16  Search                                         9240 non-null   object \n",
      " 17  Magazine                                       9240 non-null   object \n",
      " 18  Newspaper Article                              9240 non-null   object \n",
      " 19  X Education Forums                             9240 non-null   object \n",
      " 20  Newspaper                                      9240 non-null   object \n",
      " 21  Digital Advertisement                          9240 non-null   object \n",
      " 22  Through Recommendations                        9240 non-null   object \n",
      " 23  Receive More Updates About Our Courses         9240 non-null   object \n",
      " 24  Tags                                           5887 non-null   object \n",
      " 25  Lead Quality                                   4473 non-null   object \n",
      " 26  Update me on Supply Chain Content              9240 non-null   object \n",
      " 27  Get updates on DM Content                      9240 non-null   object \n",
      " 28  Lead Profile                                   6531 non-null   object \n",
      " 29  City                                           7820 non-null   object \n",
      " 30  Asymmetrique Activity Index                    5022 non-null   object \n",
      " 31  Asymmetrique Profile Index                     5022 non-null   object \n",
      " 32  Asymmetrique Activity Score                    5022 non-null   float64\n",
      " 33  Asymmetrique Profile Score                     5022 non-null   float64\n",
      " 34  I agree to pay the amount through cheque       9240 non-null   object \n",
      " 35  A free copy of Mastering The Interview         9240 non-null   object \n",
      " 36  Last Notable Activity                          9240 non-null   object \n",
      "dtypes: float64(4), int64(3), object(30)\n",
      "memory usage: 2.6+ MB\n"
     ]
    }
   ],
   "source": [
    "df.info()"
   ]
  },
  {
   "cell_type": "markdown",
   "id": "57eaafcf",
   "metadata": {},
   "source": [
    "<h4>Column 0 : Prospect ID</h4>"
   ]
  },
  {
   "cell_type": "code",
   "execution_count": 8,
   "id": "3d4f5615",
   "metadata": {},
   "outputs": [
    {
     "data": {
      "text/plain": [
       "9240"
      ]
     },
     "execution_count": 8,
     "metadata": {},
     "output_type": "execute_result"
    }
   ],
   "source": [
    "len(df[\"Prospect ID\"].unique())"
   ]
  },
  {
   "cell_type": "markdown",
   "id": "24a4afc2",
   "metadata": {},
   "source": [
    "We get to know Prospect ID is a uniquely generated Id , Count is 9240 which is same as the total rows. Action : drop"
   ]
  },
  {
   "cell_type": "markdown",
   "id": "73568716",
   "metadata": {},
   "source": [
    "<h4>Column 1 : Lead Number</h4>"
   ]
  },
  {
   "cell_type": "code",
   "execution_count": 9,
   "id": "138b87de",
   "metadata": {},
   "outputs": [
    {
     "data": {
      "text/plain": [
       "9240"
      ]
     },
     "execution_count": 9,
     "metadata": {},
     "output_type": "execute_result"
    }
   ],
   "source": [
    "len(df[\"Lead Number\"].unique())"
   ]
  },
  {
   "cell_type": "markdown",
   "id": "734c6edb",
   "metadata": {},
   "source": [
    "We get to know Lead Number is a uniquely generated Id , Count is 9240 which is same as the total rows. Action : drop"
   ]
  },
  {
   "cell_type": "markdown",
   "id": "a9cbd053",
   "metadata": {},
   "source": [
    "<h4>Column 2 : Lead Origin</h4>"
   ]
  },
  {
   "cell_type": "code",
   "execution_count": 10,
   "id": "1149e7be",
   "metadata": {},
   "outputs": [
    {
     "data": {
      "text/plain": [
       "Lead Origin\n",
       "Landing Page Submission    4886\n",
       "API                        3580\n",
       "Lead Add Form               718\n",
       "Lead Import                  55\n",
       "Quick Add Form                1\n",
       "Name: count, dtype: int64"
      ]
     },
     "execution_count": 10,
     "metadata": {},
     "output_type": "execute_result"
    }
   ],
   "source": [
    "df[\"Lead Origin\"].value_counts()"
   ]
  },
  {
   "cell_type": "markdown",
   "id": "3dde364e",
   "metadata": {},
   "source": [
    "Rare columns have been detected , Make sure they are handled or try to take a decision based on it. Missing values 0\n",
    "\n",
    "<p>Action : Try to handle the rare values , Useful column</p>\n"
   ]
  },
  {
   "cell_type": "markdown",
   "id": "a197a53c",
   "metadata": {},
   "source": [
    "<h4>Column 3 : Lead Source</h4>"
   ]
  },
  {
   "cell_type": "code",
   "execution_count": 11,
   "id": "9b164725",
   "metadata": {},
   "outputs": [
    {
     "data": {
      "text/plain": [
       "np.int64(36)"
      ]
     },
     "execution_count": 11,
     "metadata": {},
     "output_type": "execute_result"
    }
   ],
   "source": [
    "df[\"Lead Source\"].isna().sum()"
   ]
  },
  {
   "cell_type": "code",
   "execution_count": 12,
   "id": "f0750fb2",
   "metadata": {},
   "outputs": [
    {
     "data": {
      "text/plain": [
       "Lead Source\n",
       "Google               2868\n",
       "Direct Traffic       2543\n",
       "Olark Chat           1755\n",
       "Organic Search       1154\n",
       "Reference             534\n",
       "Welingak Website      142\n",
       "Referral Sites        125\n",
       "Facebook               55\n",
       "bing                    6\n",
       "google                  5\n",
       "Click2call              4\n",
       "Live Chat               2\n",
       "Social Media            2\n",
       "Press_Release           2\n",
       "Pay per Click Ads       1\n",
       "blog                    1\n",
       "WeLearn                 1\n",
       "welearnblog_Home        1\n",
       "youtubechannel          1\n",
       "testone                 1\n",
       "NC_EDM                  1\n",
       "Name: count, dtype: int64"
      ]
     },
     "execution_count": 12,
     "metadata": {},
     "output_type": "execute_result"
    }
   ],
   "source": [
    "df[\"Lead Source\"].value_counts()"
   ]
  },
  {
   "cell_type": "markdown",
   "id": "dcfdbf15",
   "metadata": {},
   "source": [
    "Multiple rare columns detected , Column sounds Useful. Missing values 36\n",
    "\n",
    "Actions : Replace Na values with Others and Club Sources that can be clubbed . For example (Google,bing as Search Engine)"
   ]
  },
  {
   "cell_type": "markdown",
   "id": "d4fc06c0",
   "metadata": {},
   "source": [
    "<h4>Column 4 : Do Not Email </h4>"
   ]
  },
  {
   "cell_type": "code",
   "execution_count": 13,
   "id": "52bb9f92",
   "metadata": {},
   "outputs": [
    {
     "data": {
      "text/plain": [
       "np.int64(0)"
      ]
     },
     "execution_count": 13,
     "metadata": {},
     "output_type": "execute_result"
    }
   ],
   "source": [
    "df['Do Not Email'].isna().sum()"
   ]
  },
  {
   "cell_type": "code",
   "execution_count": 14,
   "id": "1fcacc32",
   "metadata": {},
   "outputs": [
    {
     "data": {
      "text/plain": [
       "Do Not Email\n",
       "No     8506\n",
       "Yes     734\n",
       "Name: count, dtype: int64"
      ]
     },
     "execution_count": 14,
     "metadata": {},
     "output_type": "execute_result"
    }
   ],
   "source": [
    "df['Do Not Email'].value_counts()"
   ]
  },
  {
   "cell_type": "markdown",
   "id": "12d145a9",
   "metadata": {},
   "source": [
    "Heavily skewed Towards No, Apart from that no issues. 0 Missing Values\n",
    "\n",
    "Actions : One Hot encoding"
   ]
  },
  {
   "cell_type": "markdown",
   "id": "cab3ac44",
   "metadata": {},
   "source": [
    "<h4>Column 5 : Do Not Call </h4>"
   ]
  },
  {
   "cell_type": "code",
   "execution_count": 15,
   "id": "d0fead01",
   "metadata": {},
   "outputs": [
    {
     "data": {
      "text/plain": [
       "np.int64(0)"
      ]
     },
     "execution_count": 15,
     "metadata": {},
     "output_type": "execute_result"
    }
   ],
   "source": [
    "df['Do Not Call'].isna().sum()"
   ]
  },
  {
   "cell_type": "code",
   "execution_count": 16,
   "id": "beeaf205",
   "metadata": {},
   "outputs": [
    {
     "data": {
      "text/plain": [
       "Do Not Call\n",
       "No     9238\n",
       "Yes       2\n",
       "Name: count, dtype: int64"
      ]
     },
     "execution_count": 16,
     "metadata": {},
     "output_type": "execute_result"
    }
   ],
   "source": [
    "df['Do Not Call'].value_counts()"
   ]
  },
  {
   "cell_type": "markdown",
   "id": "810c0240",
   "metadata": {},
   "source": [
    "Very Heavily Skewed. Only 2 Yes out of all rows. \n",
    "\n",
    "Actions :  Drop ,  if in future we get more re engineer pipeline."
   ]
  },
  {
   "cell_type": "markdown",
   "id": "9d2122d5",
   "metadata": {},
   "source": [
    "<h4>Column 6 : Converted <h4>"
   ]
  },
  {
   "cell_type": "code",
   "execution_count": 17,
   "id": "113712e5",
   "metadata": {},
   "outputs": [
    {
     "data": {
      "text/plain": [
       "np.int64(0)"
      ]
     },
     "execution_count": 17,
     "metadata": {},
     "output_type": "execute_result"
    }
   ],
   "source": [
    "df['Converted'].isna().sum()"
   ]
  },
  {
   "cell_type": "code",
   "execution_count": 18,
   "id": "05b16f75",
   "metadata": {},
   "outputs": [
    {
     "data": {
      "text/plain": [
       "Converted\n",
       "0    5679\n",
       "1    3561\n",
       "Name: count, dtype: int64"
      ]
     },
     "execution_count": 18,
     "metadata": {},
     "output_type": "execute_result"
    }
   ],
   "source": [
    "df['Converted'].value_counts()"
   ]
  },
  {
   "cell_type": "markdown",
   "id": "21fc1599",
   "metadata": {},
   "source": [
    "Target Column , Light skew towards 0. \n",
    "\n",
    "Action : Nothing"
   ]
  },
  {
   "cell_type": "markdown",
   "id": "2280a451",
   "metadata": {},
   "source": [
    "<h4>Column 7 : TotalVisits</h4>"
   ]
  },
  {
   "cell_type": "code",
   "execution_count": 19,
   "id": "7a210705",
   "metadata": {},
   "outputs": [
    {
     "data": {
      "text/plain": [
       "np.int64(137)"
      ]
     },
     "execution_count": 19,
     "metadata": {},
     "output_type": "execute_result"
    }
   ],
   "source": [
    "df[\"TotalVisits\"].isna().sum()"
   ]
  },
  {
   "cell_type": "code",
   "execution_count": 20,
   "id": "be33dcfc",
   "metadata": {},
   "outputs": [
    {
     "data": {
      "text/plain": [
       "np.float64(1.4826839826839828)"
      ]
     },
     "execution_count": 20,
     "metadata": {},
     "output_type": "execute_result"
    }
   ],
   "source": [
    "((df[\"TotalVisits\"].isna().sum())/len(df))*100"
   ]
  },
  {
   "cell_type": "code",
   "execution_count": 21,
   "id": "720999f7",
   "metadata": {},
   "outputs": [
    {
     "data": {
      "text/plain": [
       "42"
      ]
     },
     "execution_count": 21,
     "metadata": {},
     "output_type": "execute_result"
    }
   ],
   "source": [
    "len(df[\"TotalVisits\"].unique())"
   ]
  },
  {
   "cell_type": "code",
   "execution_count": null,
   "id": "201415a9",
   "metadata": {},
   "outputs": [],
   "source": [
    "\n"
   ]
  },
  {
   "cell_type": "code",
   "execution_count": null,
   "id": "49819c80",
   "metadata": {},
   "outputs": [],
   "source": [
    "\n"
   ]
  },
  {
   "cell_type": "code",
   "execution_count": 22,
   "id": "2edafc3f",
   "metadata": {},
   "outputs": [
    {
     "data": {
      "text/plain": [
       "TotalVisits\n",
       "0.0    2189\n",
       "2.0       2\n",
       "5.0       1\n",
       "6.0       1\n",
       "Name: count, dtype: int64"
      ]
     },
     "execution_count": 22,
     "metadata": {},
     "output_type": "execute_result"
    }
   ],
   "source": [
    "df[df[\"Total Time Spent on Website\"]==0][\"TotalVisits\"].value_counts()"
   ]
  },
  {
   "cell_type": "code",
   "execution_count": 23,
   "id": "4a48753b",
   "metadata": {},
   "outputs": [
    {
     "data": {
      "text/html": [
       "<div>\n",
       "<style scoped>\n",
       "    .dataframe tbody tr th:only-of-type {\n",
       "        vertical-align: middle;\n",
       "    }\n",
       "\n",
       "    .dataframe tbody tr th {\n",
       "        vertical-align: top;\n",
       "    }\n",
       "\n",
       "    .dataframe thead th {\n",
       "        text-align: right;\n",
       "    }\n",
       "</style>\n",
       "<table border=\"1\" class=\"dataframe\">\n",
       "  <thead>\n",
       "    <tr style=\"text-align: center;\">\n",
       "      <th></th>\n",
       "      <th>Prospect ID</th>\n",
       "      <th>Lead Number</th>\n",
       "      <th>Lead Origin</th>\n",
       "      <th>Lead Source</th>\n",
       "      <th>Do Not Email</th>\n",
       "      <th>Do Not Call</th>\n",
       "      <th>Converted</th>\n",
       "      <th>TotalVisits</th>\n",
       "      <th>Total Time Spent on Website</th>\n",
       "      <th>Page Views Per Visit</th>\n",
       "      <th>Last Activity</th>\n",
       "      <th>Country</th>\n",
       "      <th>Specialization</th>\n",
       "      <th>How did you hear about X Education</th>\n",
       "      <th>What is your current occupation</th>\n",
       "      <th>What matters most to you in choosing a course</th>\n",
       "      <th>Search</th>\n",
       "      <th>Magazine</th>\n",
       "      <th>Newspaper Article</th>\n",
       "      <th>X Education Forums</th>\n",
       "      <th>Newspaper</th>\n",
       "      <th>Digital Advertisement</th>\n",
       "      <th>Through Recommendations</th>\n",
       "      <th>Receive More Updates About Our Courses</th>\n",
       "      <th>Tags</th>\n",
       "      <th>Lead Quality</th>\n",
       "      <th>Update me on Supply Chain Content</th>\n",
       "      <th>Get updates on DM Content</th>\n",
       "      <th>Lead Profile</th>\n",
       "      <th>City</th>\n",
       "      <th>Asymmetrique Activity Index</th>\n",
       "      <th>Asymmetrique Profile Index</th>\n",
       "      <th>Asymmetrique Activity Score</th>\n",
       "      <th>Asymmetrique Profile Score</th>\n",
       "      <th>I agree to pay the amount through cheque</th>\n",
       "      <th>A free copy of Mastering The Interview</th>\n",
       "      <th>Last Notable Activity</th>\n",
       "    </tr>\n",
       "  </thead>\n",
       "  <tbody>\n",
       "    <tr>\n",
       "      <th>77</th>\n",
       "      <td>895d4905-f534-4f18-915b-8d239a72b5dc</td>\n",
       "      <td>659722</td>\n",
       "      <td>Lead Add Form</td>\n",
       "      <td>Welingak Website</td>\n",
       "      <td>No</td>\n",
       "      <td>No</td>\n",
       "      <td>1</td>\n",
       "      <td>NaN</td>\n",
       "      <td>1096</td>\n",
       "      <td>NaN</td>\n",
       "      <td>NaN</td>\n",
       "      <td>NaN</td>\n",
       "      <td>Select</td>\n",
       "      <td>Select</td>\n",
       "      <td>Unemployed</td>\n",
       "      <td>Better Career Prospects</td>\n",
       "      <td>No</td>\n",
       "      <td>No</td>\n",
       "      <td>No</td>\n",
       "      <td>No</td>\n",
       "      <td>No</td>\n",
       "      <td>No</td>\n",
       "      <td>No</td>\n",
       "      <td>No</td>\n",
       "      <td>NaN</td>\n",
       "      <td>NaN</td>\n",
       "      <td>No</td>\n",
       "      <td>No</td>\n",
       "      <td>Select</td>\n",
       "      <td>Select</td>\n",
       "      <td>02.Medium</td>\n",
       "      <td>02.Medium</td>\n",
       "      <td>14.0</td>\n",
       "      <td>15.0</td>\n",
       "      <td>No</td>\n",
       "      <td>No</td>\n",
       "      <td>Modified</td>\n",
       "    </tr>\n",
       "    <tr>\n",
       "      <th>79</th>\n",
       "      <td>3a0ce10f-d2c1-4213-a2bc-4f97bcd29699</td>\n",
       "      <td>659710</td>\n",
       "      <td>Lead Add Form</td>\n",
       "      <td>Reference</td>\n",
       "      <td>No</td>\n",
       "      <td>No</td>\n",
       "      <td>1</td>\n",
       "      <td>NaN</td>\n",
       "      <td>705</td>\n",
       "      <td>NaN</td>\n",
       "      <td>NaN</td>\n",
       "      <td>NaN</td>\n",
       "      <td>Hospitality Management</td>\n",
       "      <td>Select</td>\n",
       "      <td>Working Professional</td>\n",
       "      <td>Better Career Prospects</td>\n",
       "      <td>No</td>\n",
       "      <td>No</td>\n",
       "      <td>No</td>\n",
       "      <td>No</td>\n",
       "      <td>No</td>\n",
       "      <td>No</td>\n",
       "      <td>No</td>\n",
       "      <td>No</td>\n",
       "      <td>Will revert after reading the email</td>\n",
       "      <td>Low in Relevance</td>\n",
       "      <td>No</td>\n",
       "      <td>No</td>\n",
       "      <td>Potential Lead</td>\n",
       "      <td>Thane &amp; Outskirts</td>\n",
       "      <td>02.Medium</td>\n",
       "      <td>02.Medium</td>\n",
       "      <td>14.0</td>\n",
       "      <td>16.0</td>\n",
       "      <td>No</td>\n",
       "      <td>No</td>\n",
       "      <td>Modified</td>\n",
       "    </tr>\n",
       "    <tr>\n",
       "      <th>81</th>\n",
       "      <td>277ad6a6-4565-4a18-a1ff-e46e03f22663</td>\n",
       "      <td>659705</td>\n",
       "      <td>Lead Add Form</td>\n",
       "      <td>Welingak Website</td>\n",
       "      <td>No</td>\n",
       "      <td>No</td>\n",
       "      <td>1</td>\n",
       "      <td>NaN</td>\n",
       "      <td>346</td>\n",
       "      <td>NaN</td>\n",
       "      <td>NaN</td>\n",
       "      <td>NaN</td>\n",
       "      <td>Select</td>\n",
       "      <td>Select</td>\n",
       "      <td>Unemployed</td>\n",
       "      <td>Better Career Prospects</td>\n",
       "      <td>No</td>\n",
       "      <td>No</td>\n",
       "      <td>No</td>\n",
       "      <td>No</td>\n",
       "      <td>No</td>\n",
       "      <td>No</td>\n",
       "      <td>No</td>\n",
       "      <td>No</td>\n",
       "      <td>NaN</td>\n",
       "      <td>NaN</td>\n",
       "      <td>No</td>\n",
       "      <td>No</td>\n",
       "      <td>Select</td>\n",
       "      <td>Select</td>\n",
       "      <td>02.Medium</td>\n",
       "      <td>02.Medium</td>\n",
       "      <td>14.0</td>\n",
       "      <td>15.0</td>\n",
       "      <td>No</td>\n",
       "      <td>No</td>\n",
       "      <td>Modified</td>\n",
       "    </tr>\n",
       "    <tr>\n",
       "      <th>88</th>\n",
       "      <td>68f496c2-0073-470f-9c3c-7fb48f060ce5</td>\n",
       "      <td>659631</td>\n",
       "      <td>Lead Add Form</td>\n",
       "      <td>Reference</td>\n",
       "      <td>No</td>\n",
       "      <td>No</td>\n",
       "      <td>1</td>\n",
       "      <td>NaN</td>\n",
       "      <td>1007</td>\n",
       "      <td>NaN</td>\n",
       "      <td>NaN</td>\n",
       "      <td>NaN</td>\n",
       "      <td>Human Resource Management</td>\n",
       "      <td>Select</td>\n",
       "      <td>Unemployed</td>\n",
       "      <td>Better Career Prospects</td>\n",
       "      <td>No</td>\n",
       "      <td>No</td>\n",
       "      <td>No</td>\n",
       "      <td>No</td>\n",
       "      <td>No</td>\n",
       "      <td>No</td>\n",
       "      <td>No</td>\n",
       "      <td>No</td>\n",
       "      <td>Closed by Horizzon</td>\n",
       "      <td>High in Relevance</td>\n",
       "      <td>No</td>\n",
       "      <td>No</td>\n",
       "      <td>Lateral Student</td>\n",
       "      <td>Mumbai</td>\n",
       "      <td>02.Medium</td>\n",
       "      <td>01.High</td>\n",
       "      <td>14.0</td>\n",
       "      <td>20.0</td>\n",
       "      <td>No</td>\n",
       "      <td>No</td>\n",
       "      <td>Modified</td>\n",
       "    </tr>\n",
       "    <tr>\n",
       "      <th>120</th>\n",
       "      <td>144807db-2895-4002-b52e-3eda79c22395</td>\n",
       "      <td>659283</td>\n",
       "      <td>Lead Add Form</td>\n",
       "      <td>Reference</td>\n",
       "      <td>No</td>\n",
       "      <td>No</td>\n",
       "      <td>1</td>\n",
       "      <td>NaN</td>\n",
       "      <td>1111</td>\n",
       "      <td>NaN</td>\n",
       "      <td>NaN</td>\n",
       "      <td>NaN</td>\n",
       "      <td>Marketing Management</td>\n",
       "      <td>Select</td>\n",
       "      <td>Working Professional</td>\n",
       "      <td>Better Career Prospects</td>\n",
       "      <td>No</td>\n",
       "      <td>No</td>\n",
       "      <td>No</td>\n",
       "      <td>No</td>\n",
       "      <td>No</td>\n",
       "      <td>No</td>\n",
       "      <td>No</td>\n",
       "      <td>No</td>\n",
       "      <td>Closed by Horizzon</td>\n",
       "      <td>Low in Relevance</td>\n",
       "      <td>No</td>\n",
       "      <td>No</td>\n",
       "      <td>Potential Lead</td>\n",
       "      <td>Other Cities</td>\n",
       "      <td>02.Medium</td>\n",
       "      <td>01.High</td>\n",
       "      <td>14.0</td>\n",
       "      <td>18.0</td>\n",
       "      <td>No</td>\n",
       "      <td>No</td>\n",
       "      <td>Modified</td>\n",
       "    </tr>\n",
       "  </tbody>\n",
       "</table>\n",
       "</div>"
      ],
      "text/plain": [
       "                 Prospect ID               Lead Number  Lead Origin    \\\n",
       "77   895d4905-f534-4f18-915b-8d239a72b5dc    659722     Lead Add Form   \n",
       "79   3a0ce10f-d2c1-4213-a2bc-4f97bcd29699    659710     Lead Add Form   \n",
       "81   277ad6a6-4565-4a18-a1ff-e46e03f22663    659705     Lead Add Form   \n",
       "88   68f496c2-0073-470f-9c3c-7fb48f060ce5    659631     Lead Add Form   \n",
       "120  144807db-2895-4002-b52e-3eda79c22395    659283     Lead Add Form   \n",
       "\n",
       "       Lead Source    Do Not Email Do Not Call  Converted  TotalVisits  \\\n",
       "77   Welingak Website      No           No          1         NaN        \n",
       "79          Reference      No           No          1         NaN        \n",
       "81   Welingak Website      No           No          1         NaN        \n",
       "88          Reference      No           No          1         NaN        \n",
       "120         Reference      No           No          1         NaN        \n",
       "\n",
       "     Total Time Spent on Website  Page Views Per Visit Last Activity Country  \\\n",
       "77              1096                      NaN                NaN        NaN    \n",
       "79               705                      NaN                NaN        NaN    \n",
       "81               346                      NaN                NaN        NaN    \n",
       "88              1007                      NaN                NaN        NaN    \n",
       "120             1111                      NaN                NaN        NaN    \n",
       "\n",
       "          Specialization       How did you hear about X Education  \\\n",
       "77                      Select               Select                 \n",
       "79      Hospitality Management               Select                 \n",
       "81                      Select               Select                 \n",
       "88   Human Resource Management               Select                 \n",
       "120       Marketing Management               Select                 \n",
       "\n",
       "    What is your current occupation  \\\n",
       "77                  Unemployed        \n",
       "79        Working Professional        \n",
       "81                  Unemployed        \n",
       "88                  Unemployed        \n",
       "120       Working Professional        \n",
       "\n",
       "    What matters most to you in choosing a course Search Magazine  \\\n",
       "77              Better Career Prospects             No      No      \n",
       "79              Better Career Prospects             No      No      \n",
       "81              Better Career Prospects             No      No      \n",
       "88              Better Career Prospects             No      No      \n",
       "120             Better Career Prospects             No      No      \n",
       "\n",
       "    Newspaper Article X Education Forums Newspaper Digital Advertisement  \\\n",
       "77          No                No             No              No            \n",
       "79          No                No             No              No            \n",
       "81          No                No             No              No            \n",
       "88          No                No             No              No            \n",
       "120         No                No             No              No            \n",
       "\n",
       "    Through Recommendations Receive More Updates About Our Courses  \\\n",
       "77             No                             No                     \n",
       "79             No                             No                     \n",
       "81             No                             No                     \n",
       "88             No                             No                     \n",
       "120            No                             No                     \n",
       "\n",
       "                    Tags                    Lead Quality     \\\n",
       "77                                   NaN                NaN   \n",
       "79   Will revert after reading the email   Low in Relevance   \n",
       "81                                   NaN                NaN   \n",
       "88                    Closed by Horizzon  High in Relevance   \n",
       "120                   Closed by Horizzon   Low in Relevance   \n",
       "\n",
       "    Update me on Supply Chain Content Get updates on DM Content  \\\n",
       "77                  No                            No              \n",
       "79                  No                            No              \n",
       "81                  No                            No              \n",
       "88                  No                            No              \n",
       "120                 No                            No              \n",
       "\n",
       "      Lead Profile          City        Asymmetrique Activity Index  \\\n",
       "77            Select             Select           02.Medium           \n",
       "79    Potential Lead  Thane & Outskirts           02.Medium           \n",
       "81            Select             Select           02.Medium           \n",
       "88   Lateral Student             Mumbai           02.Medium           \n",
       "120   Potential Lead       Other Cities           02.Medium           \n",
       "\n",
       "    Asymmetrique Profile Index  Asymmetrique Activity Score  \\\n",
       "77           02.Medium                     14.0               \n",
       "79           02.Medium                     14.0               \n",
       "81           02.Medium                     14.0               \n",
       "88             01.High                     14.0               \n",
       "120            01.High                     14.0               \n",
       "\n",
       "     Asymmetrique Profile Score I agree to pay the amount through cheque  \\\n",
       "77              15.0                               No                      \n",
       "79              16.0                               No                      \n",
       "81              15.0                               No                      \n",
       "88              20.0                               No                      \n",
       "120             18.0                               No                      \n",
       "\n",
       "    A free copy of Mastering The Interview Last Notable Activity  \n",
       "77                    No                          Modified        \n",
       "79                    No                          Modified        \n",
       "81                    No                          Modified        \n",
       "88                    No                          Modified        \n",
       "120                   No                          Modified        "
      ]
     },
     "execution_count": 23,
     "metadata": {},
     "output_type": "execute_result"
    }
   ],
   "source": [
    "df[df[\"TotalVisits\"].isna()].head()"
   ]
  },
  {
   "cell_type": "markdown",
   "id": "a2b8a58e",
   "metadata": {},
   "source": [
    "When Total Time Spent On Website = 0 , Except 3 cases in every case Total Visits is 0.\n",
    "<p>Total Visits is NA but Total Time Spent On Website != 0 </p>\n",
    "\n",
    "Action : Impute with mean when Total Time Spent on Website != 0 . NA is just 1.5% of the total distribution."
   ]
  },
  {
   "cell_type": "code",
   "execution_count": 25,
   "id": "197dcf6d",
   "metadata": {},
   "outputs": [
    {
     "data": {
      "text/plain": [
       "City\n",
       "Select                         1217\n",
       "Mumbai                          211\n",
       "Thane & Outskirts                80\n",
       "Other Cities                     55\n",
       "Other Cities of Maharashtra      43\n",
       "Other Metro Cities               15\n",
       "Tier II Cities                    2\n",
       "Name: count, dtype: int64"
      ]
     },
     "execution_count": 25,
     "metadata": {},
     "output_type": "execute_result"
    }
   ],
   "source": [
    "df[df[\"Country\"].isna()][\"City\"].value_counts()"
   ]
  },
  {
   "cell_type": "code",
   "execution_count": 26,
   "id": "823f7aa1",
   "metadata": {},
   "outputs": [
    {
     "data": {
      "text/plain": [
       "Country\n",
       "India                   6492\n",
       "United States             69\n",
       "United Arab Emirates      53\n",
       "Singapore                 24\n",
       "Saudi Arabia              21\n",
       "United Kingdom            15\n",
       "Australia                 13\n",
       "Qatar                     10\n",
       "Hong Kong                  7\n",
       "Bahrain                    7\n",
       "Oman                       6\n",
       "France                     6\n",
       "unknown                    5\n",
       "Kuwait                     4\n",
       "South Africa               4\n",
       "Nigeria                    4\n",
       "Germany                    4\n",
       "Canada                     4\n",
       "Sweden                     3\n",
       "Italy                      2\n",
       "Belgium                    2\n",
       "Ghana                      2\n",
       "Philippines                2\n",
       "Netherlands                2\n",
       "China                      2\n",
       "Asia/Pacific Region        2\n",
       "Bangladesh                 2\n",
       "Uganda                     2\n",
       "Russia                     1\n",
       "Sri Lanka                  1\n",
       "Tanzania                   1\n",
       "Kenya                      1\n",
       "Malaysia                   1\n",
       "Liberia                    1\n",
       "Denmark                    1\n",
       "Switzerland                1\n",
       "Vietnam                    1\n",
       "Indonesia                  1\n",
       "Name: count, dtype: int64"
      ]
     },
     "execution_count": 26,
     "metadata": {},
     "output_type": "execute_result"
    }
   ],
   "source": [
    "df[\"Country\"].value_counts()"
   ]
  },
  {
   "cell_type": "code",
   "execution_count": 27,
   "id": "f465ea30",
   "metadata": {},
   "outputs": [
    {
     "data": {
      "text/plain": [
       "Index(['Prospect ID', 'Lead Number', 'Lead Origin', 'Lead Source',\n",
       "       'Do Not Email', 'Do Not Call', 'Converted', 'TotalVisits',\n",
       "       'Total Time Spent on Website', 'Page Views Per Visit', 'Last Activity',\n",
       "       'Country', 'Specialization', 'How did you hear about X Education',\n",
       "       'What is your current occupation',\n",
       "       'What matters most to you in choosing a course', 'Search', 'Magazine',\n",
       "       'Newspaper Article', 'X Education Forums', 'Newspaper',\n",
       "       'Digital Advertisement', 'Through Recommendations',\n",
       "       'Receive More Updates About Our Courses', 'Tags', 'Lead Quality',\n",
       "       'Update me on Supply Chain Content', 'Get updates on DM Content',\n",
       "       'Lead Profile', 'City', 'Asymmetrique Activity Index',\n",
       "       'Asymmetrique Profile Index', 'Asymmetrique Activity Score',\n",
       "       'Asymmetrique Profile Score',\n",
       "       'I agree to pay the amount through cheque',\n",
       "       'A free copy of Mastering The Interview', 'Last Notable Activity'],\n",
       "      dtype='object')"
      ]
     },
     "execution_count": 27,
     "metadata": {},
     "output_type": "execute_result"
    }
   ],
   "source": [
    "df.columns"
   ]
  },
  {
   "cell_type": "code",
   "execution_count": 28,
   "id": "cb0379e8",
   "metadata": {},
   "outputs": [],
   "source": [
    "df.drop(['Prospect ID', 'Lead Number'] , axis=1 , inplace=True)"
   ]
  },
  {
   "cell_type": "markdown",
   "id": "8f6ae216",
   "metadata": {},
   "source": [
    "<h4>'How did you hear about X Education','Lead Profile',\n",
    "                'Lead Quality','Asymmetrique Profile Score','Asymmetrique Activity Score',\n",
    "               'Asymmetrique Activity Index','Asymmetrique Profile Index','Tags','Last Notable Activity' are columns to be dropped because they were found after marketing steps by sales teams</h4>"
   ]
  },
  {
   "cell_type": "code",
   "execution_count": 29,
   "id": "e0b50b4d",
   "metadata": {},
   "outputs": [],
   "source": [
    "cols_to_drop = ['How did you hear about X Education','Lead Profile',\n",
    "                'Lead Quality','Asymmetrique Profile Score','Asymmetrique Activity Score',\n",
    "               'Asymmetrique Activity Index','Asymmetrique Profile Index','Tags','Last Notable Activity']\n",
    "\n",
    "df.drop(cols_to_drop, axis=1, inplace = True)"
   ]
  },
  {
   "cell_type": "code",
   "execution_count": 30,
   "id": "5ce89f4f",
   "metadata": {},
   "outputs": [],
   "source": [
    "df = df.replace('Select', np.nan)"
   ]
  },
  {
   "cell_type": "code",
   "execution_count": null,
   "id": "52a3ecba",
   "metadata": {},
   "outputs": [],
   "source": [
    "categorical_col = df.select_dtypes(exclude =[\"number\"]).columns.values\n",
    "numerical_col = df.select_dtypes(include =[\"number\"]).columns.values\n",
    "# print(\"CATEGORICAL FEATURES : \\n {} \\n\\n\".format(categorical_col))\n",
    "# print(\"NUMERICAL FEATURES : \\n {} \".format(numerical_col))"
   ]
  },
  {
   "cell_type": "code",
   "execution_count": null,
   "id": "08ffe73f",
   "metadata": {},
   "outputs": [],
   "source": [
    "# A function that hets information about the categorical information.\n",
    "\n",
    "def Cat_info(df, categorical_column):\n",
    "    results = []\n",
    "\n",
    "    for col in categorical_column:\n",
    "        values = {\n",
    "            \"columns\": col,\n",
    "            \"values\": df[col].unique(),\n",
    "            \"unique_values\": df[col].nunique(),\n",
    "            \"null_values\": df[col].isna().sum(),\n",
    "            \"null_percent\": round(df[col].isna().sum() / len(df) * 100, 1)\n",
    "        }\n",
    "        results.append(values)\n",
    "\n",
    "    df_result = pd.DataFrame(results)\n",
    "    df_result.sort_values(\"null_values\", ascending=False, inplace=True)\n",
    "    df_result.set_index(\"columns\", inplace=True)\n",
    "    return df_result\n"
   ]
  },
  {
   "cell_type": "code",
   "execution_count": 33,
   "id": "b89d7446",
   "metadata": {},
   "outputs": [
    {
     "data": {
      "text/html": [
       "<div>\n",
       "<style scoped>\n",
       "    .dataframe tbody tr th:only-of-type {\n",
       "        vertical-align: middle;\n",
       "    }\n",
       "\n",
       "    .dataframe tbody tr th {\n",
       "        vertical-align: top;\n",
       "    }\n",
       "\n",
       "    .dataframe thead th {\n",
       "        text-align: right;\n",
       "    }\n",
       "</style>\n",
       "<table border=\"1\" class=\"dataframe\">\n",
       "  <thead>\n",
       "    <tr style=\"text-align: center;\">\n",
       "      <th></th>\n",
       "      <th>values</th>\n",
       "      <th>unique_values</th>\n",
       "      <th>null_values</th>\n",
       "      <th>null_percent</th>\n",
       "    </tr>\n",
       "    <tr>\n",
       "      <th>columns</th>\n",
       "      <th></th>\n",
       "      <th></th>\n",
       "      <th></th>\n",
       "      <th></th>\n",
       "    </tr>\n",
       "  </thead>\n",
       "  <tbody>\n",
       "    <tr>\n",
       "      <th>City</th>\n",
       "      <td>[nan, Mumbai, Thane &amp; Outskirts, Other Metro Cities, Other Cities, Other Cities of Maharashtra, Tier II Cities]</td>\n",
       "      <td>6</td>\n",
       "      <td>3669</td>\n",
       "      <td>39.7</td>\n",
       "    </tr>\n",
       "    <tr>\n",
       "      <th>Specialization</th>\n",
       "      <td>[nan, Business Administration, Media and Advertising, Supply Chain Management, IT Projects Management, Finance Management, Travel and Tourism, Human Resource Management, Marketing Management, Banking, Investment And Insurance, International Business, E-COMMERCE, Operations Management, Retail Management, Services Excellence, Hospitality Management, Rural and Agribusiness, Healthcare Management, E-Business]</td>\n",
       "      <td>18</td>\n",
       "      <td>3380</td>\n",
       "      <td>36.6</td>\n",
       "    </tr>\n",
       "    <tr>\n",
       "      <th>What matters most to you in choosing a course</th>\n",
       "      <td>[Better Career Prospects, nan, Flexibility &amp; Convenience, Other]</td>\n",
       "      <td>3</td>\n",
       "      <td>2709</td>\n",
       "      <td>29.3</td>\n",
       "    </tr>\n",
       "    <tr>\n",
       "      <th>What is your current occupation</th>\n",
       "      <td>[Unemployed, Student, nan, Working Professional, Businessman, Other, Housewife]</td>\n",
       "      <td>6</td>\n",
       "      <td>2690</td>\n",
       "      <td>29.1</td>\n",
       "    </tr>\n",
       "    <tr>\n",
       "      <th>Country</th>\n",
       "      <td>[nan, India, Russia, Kuwait, Oman, United Arab Emirates, United States, Australia, United Kingdom, Bahrain, Ghana, Singapore, Qatar, Saudi Arabia, Belgium, France, Sri Lanka, China, Canada, Netherlands, Sweden, Nigeria, Hong Kong, Germany, Asia/Pacific Region, Uganda, Kenya, Italy, South Africa, Tanzania, unknown, Malaysia, Liberia, Switzerland, Denmark, Philippines, Bangladesh, Vietnam, Indonesia]</td>\n",
       "      <td>38</td>\n",
       "      <td>2461</td>\n",
       "      <td>26.6</td>\n",
       "    </tr>\n",
       "    <tr>\n",
       "      <th>Last Activity</th>\n",
       "      <td>[Page Visited on Website, Email Opened, Unreachable, Converted to Lead, Olark Chat Conversation, Email Bounced, Email Link Clicked, Form Submitted on Website, Unsubscribed, Had a Phone Conversation, View in browser link Clicked, nan, Approached upfront, SMS Sent, Visited Booth in Tradeshow, Resubscribed to emails, Email Received, Email Marked Spam]</td>\n",
       "      <td>17</td>\n",
       "      <td>103</td>\n",
       "      <td>1.1</td>\n",
       "    </tr>\n",
       "    <tr>\n",
       "      <th>Lead Source</th>\n",
       "      <td>[Olark Chat, Organic Search, Direct Traffic, Google, Referral Sites, Welingak Website, Reference, google, Facebook, nan, blog, Pay per Click Ads, bing, Social Media, WeLearn, Click2call, Live Chat, welearnblog_Home, youtubechannel, testone, Press_Release, NC_EDM]</td>\n",
       "      <td>21</td>\n",
       "      <td>36</td>\n",
       "      <td>0.4</td>\n",
       "    </tr>\n",
       "    <tr>\n",
       "      <th>Do Not Email</th>\n",
       "      <td>[No, Yes]</td>\n",
       "      <td>2</td>\n",
       "      <td>0</td>\n",
       "      <td>0.0</td>\n",
       "    </tr>\n",
       "    <tr>\n",
       "      <th>Lead Origin</th>\n",
       "      <td>[API, Landing Page Submission, Lead Add Form, Lead Import, Quick Add Form]</td>\n",
       "      <td>5</td>\n",
       "      <td>0</td>\n",
       "      <td>0.0</td>\n",
       "    </tr>\n",
       "    <tr>\n",
       "      <th>Do Not Call</th>\n",
       "      <td>[No, Yes]</td>\n",
       "      <td>2</td>\n",
       "      <td>0</td>\n",
       "      <td>0.0</td>\n",
       "    </tr>\n",
       "    <tr>\n",
       "      <th>Magazine</th>\n",
       "      <td>[No]</td>\n",
       "      <td>1</td>\n",
       "      <td>0</td>\n",
       "      <td>0.0</td>\n",
       "    </tr>\n",
       "    <tr>\n",
       "      <th>Newspaper Article</th>\n",
       "      <td>[No, Yes]</td>\n",
       "      <td>2</td>\n",
       "      <td>0</td>\n",
       "      <td>0.0</td>\n",
       "    </tr>\n",
       "    <tr>\n",
       "      <th>X Education Forums</th>\n",
       "      <td>[No, Yes]</td>\n",
       "      <td>2</td>\n",
       "      <td>0</td>\n",
       "      <td>0.0</td>\n",
       "    </tr>\n",
       "    <tr>\n",
       "      <th>Search</th>\n",
       "      <td>[No, Yes]</td>\n",
       "      <td>2</td>\n",
       "      <td>0</td>\n",
       "      <td>0.0</td>\n",
       "    </tr>\n",
       "    <tr>\n",
       "      <th>Newspaper</th>\n",
       "      <td>[No, Yes]</td>\n",
       "      <td>2</td>\n",
       "      <td>0</td>\n",
       "      <td>0.0</td>\n",
       "    </tr>\n",
       "    <tr>\n",
       "      <th>Digital Advertisement</th>\n",
       "      <td>[No, Yes]</td>\n",
       "      <td>2</td>\n",
       "      <td>0</td>\n",
       "      <td>0.0</td>\n",
       "    </tr>\n",
       "    <tr>\n",
       "      <th>Receive More Updates About Our Courses</th>\n",
       "      <td>[No]</td>\n",
       "      <td>1</td>\n",
       "      <td>0</td>\n",
       "      <td>0.0</td>\n",
       "    </tr>\n",
       "    <tr>\n",
       "      <th>Through Recommendations</th>\n",
       "      <td>[No, Yes]</td>\n",
       "      <td>2</td>\n",
       "      <td>0</td>\n",
       "      <td>0.0</td>\n",
       "    </tr>\n",
       "    <tr>\n",
       "      <th>Update me on Supply Chain Content</th>\n",
       "      <td>[No]</td>\n",
       "      <td>1</td>\n",
       "      <td>0</td>\n",
       "      <td>0.0</td>\n",
       "    </tr>\n",
       "    <tr>\n",
       "      <th>Get updates on DM Content</th>\n",
       "      <td>[No]</td>\n",
       "      <td>1</td>\n",
       "      <td>0</td>\n",
       "      <td>0.0</td>\n",
       "    </tr>\n",
       "    <tr>\n",
       "      <th>I agree to pay the amount through cheque</th>\n",
       "      <td>[No]</td>\n",
       "      <td>1</td>\n",
       "      <td>0</td>\n",
       "      <td>0.0</td>\n",
       "    </tr>\n",
       "    <tr>\n",
       "      <th>A free copy of Mastering The Interview</th>\n",
       "      <td>[No, Yes]</td>\n",
       "      <td>2</td>\n",
       "      <td>0</td>\n",
       "      <td>0.0</td>\n",
       "    </tr>\n",
       "  </tbody>\n",
       "</table>\n",
       "</div>"
      ],
      "text/plain": [
       "                                                                                                                                                                                                                                                        values                                                                                                                                                                                                           \\\n",
       "columns                                                                                                                                                                                                                                                                                                                                                                                                                                                                   \n",
       "City                                                                                                                                                                                                                                                                                                                                                    [nan, Mumbai, Thane & Outskirts, Other Metro Cities, Other Cities, Other Cities of Maharashtra, Tier II Cities]   \n",
       "Specialization                                 [nan, Business Administration, Media and Advertising, Supply Chain Management, IT Projects Management, Finance Management, Travel and Tourism, Human Resource Management, Marketing Management, Banking, Investment And Insurance, International Business, E-COMMERCE, Operations Management, Retail Management, Services Excellence, Hospitality Management, Rural and Agribusiness, Healthcare Management, E-Business]   \n",
       "What matters most to you in choosing a course                                                                                                                                                                                                                                                                                                                                                          [Better Career Prospects, nan, Flexibility & Convenience, Other]   \n",
       "What is your current occupation                                                                                                                                                                                                                                                                                                                                                         [Unemployed, Student, nan, Working Professional, Businessman, Other, Housewife]   \n",
       "Country                                               [nan, India, Russia, Kuwait, Oman, United Arab Emirates, United States, Australia, United Kingdom, Bahrain, Ghana, Singapore, Qatar, Saudi Arabia, Belgium, France, Sri Lanka, China, Canada, Netherlands, Sweden, Nigeria, Hong Kong, Germany, Asia/Pacific Region, Uganda, Kenya, Italy, South Africa, Tanzania, unknown, Malaysia, Liberia, Switzerland, Denmark, Philippines, Bangladesh, Vietnam, Indonesia]   \n",
       "Last Activity                                                                                            [Page Visited on Website, Email Opened, Unreachable, Converted to Lead, Olark Chat Conversation, Email Bounced, Email Link Clicked, Form Submitted on Website, Unsubscribed, Had a Phone Conversation, View in browser link Clicked, nan, Approached upfront, SMS Sent, Visited Booth in Tradeshow, Resubscribed to emails, Email Received, Email Marked Spam]   \n",
       "Lead Source                                                                                                                                                                                     [Olark Chat, Organic Search, Direct Traffic, Google, Referral Sites, Welingak Website, Reference, google, Facebook, nan, blog, Pay per Click Ads, bing, Social Media, WeLearn, Click2call, Live Chat, welearnblog_Home, youtubechannel, testone, Press_Release, NC_EDM]   \n",
       "Do Not Email                                                                                                                                                                                                                                                                                                                                                                                                                                                  [No, Yes]   \n",
       "Lead Origin                                                                                                                                                                                                                                                                                                                                                                                  [API, Landing Page Submission, Lead Add Form, Lead Import, Quick Add Form]   \n",
       "Do Not Call                                                                                                                                                                                                                                                                                                                                                                                                                                                   [No, Yes]   \n",
       "Magazine                                                                                                                                                                                                                                                                                                                                                                                                                                                           [No]   \n",
       "Newspaper Article                                                                                                                                                                                                                                                                                                                                                                                                                                             [No, Yes]   \n",
       "X Education Forums                                                                                                                                                                                                                                                                                                                                                                                                                                            [No, Yes]   \n",
       "Search                                                                                                                                                                                                                                                                                                                                                                                                                                                        [No, Yes]   \n",
       "Newspaper                                                                                                                                                                                                                                                                                                                                                                                                                                                     [No, Yes]   \n",
       "Digital Advertisement                                                                                                                                                                                                                                                                                                                                                                                                                                         [No, Yes]   \n",
       "Receive More Updates About Our Courses                                                                                                                                                                                                                                                                                                                                                                                                                             [No]   \n",
       "Through Recommendations                                                                                                                                                                                                                                                                                                                                                                                                                                       [No, Yes]   \n",
       "Update me on Supply Chain Content                                                                                                                                                                                                                                                                                                                                                                                                                                  [No]   \n",
       "Get updates on DM Content                                                                                                                                                                                                                                                                                                                                                                                                                                          [No]   \n",
       "I agree to pay the amount through cheque                                                                                                                                                                                                                                                                                                                                                                                                                           [No]   \n",
       "A free copy of Mastering The Interview                                                                                                                                                                                                                                                                                                                                                                                                                        [No, Yes]   \n",
       "\n",
       "                                               unique_values  null_values  \\\n",
       "columns                                                                     \n",
       "City                                                 6           3669       \n",
       "Specialization                                      18           3380       \n",
       "What matters most to you in choosing a course        3           2709       \n",
       "What is your current occupation                      6           2690       \n",
       "Country                                             38           2461       \n",
       "Last Activity                                       17            103       \n",
       "Lead Source                                         21             36       \n",
       "Do Not Email                                         2              0       \n",
       "Lead Origin                                          5              0       \n",
       "Do Not Call                                          2              0       \n",
       "Magazine                                             1              0       \n",
       "Newspaper Article                                    2              0       \n",
       "X Education Forums                                   2              0       \n",
       "Search                                               2              0       \n",
       "Newspaper                                            2              0       \n",
       "Digital Advertisement                                2              0       \n",
       "Receive More Updates About Our Courses               1              0       \n",
       "Through Recommendations                              2              0       \n",
       "Update me on Supply Chain Content                    1              0       \n",
       "Get updates on DM Content                            1              0       \n",
       "I agree to pay the amount through cheque             1              0       \n",
       "A free copy of Mastering The Interview               2              0       \n",
       "\n",
       "                                               null_percent  \n",
       "columns                                                      \n",
       "City                                               39.7      \n",
       "Specialization                                     36.6      \n",
       "What matters most to you in choosing a course      29.3      \n",
       "What is your current occupation                    29.1      \n",
       "Country                                            26.6      \n",
       "Last Activity                                       1.1      \n",
       "Lead Source                                         0.4      \n",
       "Do Not Email                                        0.0      \n",
       "Lead Origin                                         0.0      \n",
       "Do Not Call                                         0.0      \n",
       "Magazine                                            0.0      \n",
       "Newspaper Article                                   0.0      \n",
       "X Education Forums                                  0.0      \n",
       "Search                                              0.0      \n",
       "Newspaper                                           0.0      \n",
       "Digital Advertisement                               0.0      \n",
       "Receive More Updates About Our Courses              0.0      \n",
       "Through Recommendations                             0.0      \n",
       "Update me on Supply Chain Content                   0.0      \n",
       "Get updates on DM Content                           0.0      \n",
       "I agree to pay the amount through cheque            0.0      \n",
       "A free copy of Mastering The Interview              0.0      "
      ]
     },
     "execution_count": 33,
     "metadata": {},
     "output_type": "execute_result"
    }
   ],
   "source": [
    "df_cat = Cat_info(df, categorical_col)\n",
    "df_cat"
   ]
  },
  {
   "cell_type": "markdown",
   "id": "eee326cd",
   "metadata": {},
   "source": [
    "<h4>['Magazine',\n",
    " 'Receive More Updates About Our Courses',\n",
    " 'Update me on Supply Chain Content',\n",
    " 'Get updates on DM Content',\n",
    " 'I agree to pay the amount through cheque]</h4>"
   ]
  },
  {
   "cell_type": "code",
   "execution_count": 34,
   "id": "4ddb46cf",
   "metadata": {},
   "outputs": [
    {
     "data": {
      "text/plain": [
       "['Magazine',\n",
       " 'Receive More Updates About Our Courses',\n",
       " 'Update me on Supply Chain Content',\n",
       " 'Get updates on DM Content',\n",
       " 'I agree to pay the amount through cheque']"
      ]
     },
     "execution_count": 34,
     "metadata": {},
     "output_type": "execute_result"
    }
   ],
   "source": [
    "cols_to_drop = df_cat[df_cat['unique_values']==1].index.values.tolist() \n",
    "cols_to_drop"
   ]
  },
  {
   "cell_type": "markdown",
   "id": "f2517bb7",
   "metadata": {},
   "source": [
    "These are having just 1 Unique value and thus dropped"
   ]
  },
  {
   "cell_type": "code",
   "execution_count": 35,
   "id": "49e20170",
   "metadata": {},
   "outputs": [
    {
     "data": {
      "text/plain": [
       "21"
      ]
     },
     "execution_count": 35,
     "metadata": {},
     "output_type": "execute_result"
    }
   ],
   "source": [
    "df.drop(cols_to_drop, axis=1, inplace = True)\n",
    "len(df.columns)"
   ]
  },
  {
   "cell_type": "code",
   "execution_count": 36,
   "id": "3d5dc371",
   "metadata": {},
   "outputs": [
    {
     "data": {
      "text/html": [
       "<div>\n",
       "<style scoped>\n",
       "    .dataframe tbody tr th:only-of-type {\n",
       "        vertical-align: middle;\n",
       "    }\n",
       "\n",
       "    .dataframe tbody tr th {\n",
       "        vertical-align: top;\n",
       "    }\n",
       "\n",
       "    .dataframe thead th {\n",
       "        text-align: right;\n",
       "    }\n",
       "</style>\n",
       "<table border=\"1\" class=\"dataframe\">\n",
       "  <thead>\n",
       "    <tr style=\"text-align: center;\">\n",
       "      <th></th>\n",
       "      <th>values</th>\n",
       "      <th>unique_values</th>\n",
       "      <th>null_values</th>\n",
       "      <th>null_percent</th>\n",
       "    </tr>\n",
       "    <tr>\n",
       "      <th>columns</th>\n",
       "      <th></th>\n",
       "      <th></th>\n",
       "      <th></th>\n",
       "      <th></th>\n",
       "    </tr>\n",
       "  </thead>\n",
       "  <tbody>\n",
       "    <tr>\n",
       "      <th>City</th>\n",
       "      <td>[nan, Mumbai, Thane &amp; Outskirts, Other Metro Cities, Other Cities, Other Cities of Maharashtra, Tier II Cities]</td>\n",
       "      <td>6</td>\n",
       "      <td>3669</td>\n",
       "      <td>39.7</td>\n",
       "    </tr>\n",
       "    <tr>\n",
       "      <th>Specialization</th>\n",
       "      <td>[nan, Business Administration, Media and Advertising, Supply Chain Management, IT Projects Management, Finance Management, Travel and Tourism, Human Resource Management, Marketing Management, Banking, Investment And Insurance, International Business, E-COMMERCE, Operations Management, Retail Management, Services Excellence, Hospitality Management, Rural and Agribusiness, Healthcare Management, E-Business]</td>\n",
       "      <td>18</td>\n",
       "      <td>3380</td>\n",
       "      <td>36.6</td>\n",
       "    </tr>\n",
       "    <tr>\n",
       "      <th>What matters most to you in choosing a course</th>\n",
       "      <td>[Better Career Prospects, nan, Flexibility &amp; Convenience, Other]</td>\n",
       "      <td>3</td>\n",
       "      <td>2709</td>\n",
       "      <td>29.3</td>\n",
       "    </tr>\n",
       "    <tr>\n",
       "      <th>What is your current occupation</th>\n",
       "      <td>[Unemployed, Student, nan, Working Professional, Businessman, Other, Housewife]</td>\n",
       "      <td>6</td>\n",
       "      <td>2690</td>\n",
       "      <td>29.1</td>\n",
       "    </tr>\n",
       "    <tr>\n",
       "      <th>Country</th>\n",
       "      <td>[nan, India, Russia, Kuwait, Oman, United Arab Emirates, United States, Australia, United Kingdom, Bahrain, Ghana, Singapore, Qatar, Saudi Arabia, Belgium, France, Sri Lanka, China, Canada, Netherlands, Sweden, Nigeria, Hong Kong, Germany, Asia/Pacific Region, Uganda, Kenya, Italy, South Africa, Tanzania, unknown, Malaysia, Liberia, Switzerland, Denmark, Philippines, Bangladesh, Vietnam, Indonesia]</td>\n",
       "      <td>38</td>\n",
       "      <td>2461</td>\n",
       "      <td>26.6</td>\n",
       "    </tr>\n",
       "    <tr>\n",
       "      <th>Last Activity</th>\n",
       "      <td>[Page Visited on Website, Email Opened, Unreachable, Converted to Lead, Olark Chat Conversation, Email Bounced, Email Link Clicked, Form Submitted on Website, Unsubscribed, Had a Phone Conversation, View in browser link Clicked, nan, Approached upfront, SMS Sent, Visited Booth in Tradeshow, Resubscribed to emails, Email Received, Email Marked Spam]</td>\n",
       "      <td>17</td>\n",
       "      <td>103</td>\n",
       "      <td>1.1</td>\n",
       "    </tr>\n",
       "    <tr>\n",
       "      <th>Lead Source</th>\n",
       "      <td>[Olark Chat, Organic Search, Direct Traffic, Google, Referral Sites, Welingak Website, Reference, google, Facebook, nan, blog, Pay per Click Ads, bing, Social Media, WeLearn, Click2call, Live Chat, welearnblog_Home, youtubechannel, testone, Press_Release, NC_EDM]</td>\n",
       "      <td>21</td>\n",
       "      <td>36</td>\n",
       "      <td>0.4</td>\n",
       "    </tr>\n",
       "    <tr>\n",
       "      <th>Lead Origin</th>\n",
       "      <td>[API, Landing Page Submission, Lead Add Form, Lead Import, Quick Add Form]</td>\n",
       "      <td>5</td>\n",
       "      <td>0</td>\n",
       "      <td>0.0</td>\n",
       "    </tr>\n",
       "    <tr>\n",
       "      <th>Do Not Call</th>\n",
       "      <td>[No, Yes]</td>\n",
       "      <td>2</td>\n",
       "      <td>0</td>\n",
       "      <td>0.0</td>\n",
       "    </tr>\n",
       "    <tr>\n",
       "      <th>Do Not Email</th>\n",
       "      <td>[No, Yes]</td>\n",
       "      <td>2</td>\n",
       "      <td>0</td>\n",
       "      <td>0.0</td>\n",
       "    </tr>\n",
       "    <tr>\n",
       "      <th>Search</th>\n",
       "      <td>[No, Yes]</td>\n",
       "      <td>2</td>\n",
       "      <td>0</td>\n",
       "      <td>0.0</td>\n",
       "    </tr>\n",
       "    <tr>\n",
       "      <th>X Education Forums</th>\n",
       "      <td>[No, Yes]</td>\n",
       "      <td>2</td>\n",
       "      <td>0</td>\n",
       "      <td>0.0</td>\n",
       "    </tr>\n",
       "    <tr>\n",
       "      <th>Newspaper Article</th>\n",
       "      <td>[No, Yes]</td>\n",
       "      <td>2</td>\n",
       "      <td>0</td>\n",
       "      <td>0.0</td>\n",
       "    </tr>\n",
       "    <tr>\n",
       "      <th>Newspaper</th>\n",
       "      <td>[No, Yes]</td>\n",
       "      <td>2</td>\n",
       "      <td>0</td>\n",
       "      <td>0.0</td>\n",
       "    </tr>\n",
       "    <tr>\n",
       "      <th>Digital Advertisement</th>\n",
       "      <td>[No, Yes]</td>\n",
       "      <td>2</td>\n",
       "      <td>0</td>\n",
       "      <td>0.0</td>\n",
       "    </tr>\n",
       "    <tr>\n",
       "      <th>Through Recommendations</th>\n",
       "      <td>[No, Yes]</td>\n",
       "      <td>2</td>\n",
       "      <td>0</td>\n",
       "      <td>0.0</td>\n",
       "    </tr>\n",
       "    <tr>\n",
       "      <th>A free copy of Mastering The Interview</th>\n",
       "      <td>[No, Yes]</td>\n",
       "      <td>2</td>\n",
       "      <td>0</td>\n",
       "      <td>0.0</td>\n",
       "    </tr>\n",
       "  </tbody>\n",
       "</table>\n",
       "</div>"
      ],
      "text/plain": [
       "                                                                                                                                                                                                                                                        values                                                                                                                                                                                                           \\\n",
       "columns                                                                                                                                                                                                                                                                                                                                                                                                                                                                   \n",
       "City                                                                                                                                                                                                                                                                                                                                                    [nan, Mumbai, Thane & Outskirts, Other Metro Cities, Other Cities, Other Cities of Maharashtra, Tier II Cities]   \n",
       "Specialization                                 [nan, Business Administration, Media and Advertising, Supply Chain Management, IT Projects Management, Finance Management, Travel and Tourism, Human Resource Management, Marketing Management, Banking, Investment And Insurance, International Business, E-COMMERCE, Operations Management, Retail Management, Services Excellence, Hospitality Management, Rural and Agribusiness, Healthcare Management, E-Business]   \n",
       "What matters most to you in choosing a course                                                                                                                                                                                                                                                                                                                                                          [Better Career Prospects, nan, Flexibility & Convenience, Other]   \n",
       "What is your current occupation                                                                                                                                                                                                                                                                                                                                                         [Unemployed, Student, nan, Working Professional, Businessman, Other, Housewife]   \n",
       "Country                                               [nan, India, Russia, Kuwait, Oman, United Arab Emirates, United States, Australia, United Kingdom, Bahrain, Ghana, Singapore, Qatar, Saudi Arabia, Belgium, France, Sri Lanka, China, Canada, Netherlands, Sweden, Nigeria, Hong Kong, Germany, Asia/Pacific Region, Uganda, Kenya, Italy, South Africa, Tanzania, unknown, Malaysia, Liberia, Switzerland, Denmark, Philippines, Bangladesh, Vietnam, Indonesia]   \n",
       "Last Activity                                                                                            [Page Visited on Website, Email Opened, Unreachable, Converted to Lead, Olark Chat Conversation, Email Bounced, Email Link Clicked, Form Submitted on Website, Unsubscribed, Had a Phone Conversation, View in browser link Clicked, nan, Approached upfront, SMS Sent, Visited Booth in Tradeshow, Resubscribed to emails, Email Received, Email Marked Spam]   \n",
       "Lead Source                                                                                                                                                                                     [Olark Chat, Organic Search, Direct Traffic, Google, Referral Sites, Welingak Website, Reference, google, Facebook, nan, blog, Pay per Click Ads, bing, Social Media, WeLearn, Click2call, Live Chat, welearnblog_Home, youtubechannel, testone, Press_Release, NC_EDM]   \n",
       "Lead Origin                                                                                                                                                                                                                                                                                                                                                                                  [API, Landing Page Submission, Lead Add Form, Lead Import, Quick Add Form]   \n",
       "Do Not Call                                                                                                                                                                                                                                                                                                                                                                                                                                                   [No, Yes]   \n",
       "Do Not Email                                                                                                                                                                                                                                                                                                                                                                                                                                                  [No, Yes]   \n",
       "Search                                                                                                                                                                                                                                                                                                                                                                                                                                                        [No, Yes]   \n",
       "X Education Forums                                                                                                                                                                                                                                                                                                                                                                                                                                            [No, Yes]   \n",
       "Newspaper Article                                                                                                                                                                                                                                                                                                                                                                                                                                             [No, Yes]   \n",
       "Newspaper                                                                                                                                                                                                                                                                                                                                                                                                                                                     [No, Yes]   \n",
       "Digital Advertisement                                                                                                                                                                                                                                                                                                                                                                                                                                         [No, Yes]   \n",
       "Through Recommendations                                                                                                                                                                                                                                                                                                                                                                                                                                       [No, Yes]   \n",
       "A free copy of Mastering The Interview                                                                                                                                                                                                                                                                                                                                                                                                                        [No, Yes]   \n",
       "\n",
       "                                               unique_values  null_values  \\\n",
       "columns                                                                     \n",
       "City                                                 6           3669       \n",
       "Specialization                                      18           3380       \n",
       "What matters most to you in choosing a course        3           2709       \n",
       "What is your current occupation                      6           2690       \n",
       "Country                                             38           2461       \n",
       "Last Activity                                       17            103       \n",
       "Lead Source                                         21             36       \n",
       "Lead Origin                                          5              0       \n",
       "Do Not Call                                          2              0       \n",
       "Do Not Email                                         2              0       \n",
       "Search                                               2              0       \n",
       "X Education Forums                                   2              0       \n",
       "Newspaper Article                                    2              0       \n",
       "Newspaper                                            2              0       \n",
       "Digital Advertisement                                2              0       \n",
       "Through Recommendations                              2              0       \n",
       "A free copy of Mastering The Interview               2              0       \n",
       "\n",
       "                                               null_percent  \n",
       "columns                                                      \n",
       "City                                               39.7      \n",
       "Specialization                                     36.6      \n",
       "What matters most to you in choosing a course      29.3      \n",
       "What is your current occupation                    29.1      \n",
       "Country                                            26.6      \n",
       "Last Activity                                       1.1      \n",
       "Lead Source                                         0.4      \n",
       "Lead Origin                                         0.0      \n",
       "Do Not Call                                         0.0      \n",
       "Do Not Email                                        0.0      \n",
       "Search                                              0.0      \n",
       "X Education Forums                                  0.0      \n",
       "Newspaper Article                                   0.0      \n",
       "Newspaper                                           0.0      \n",
       "Digital Advertisement                               0.0      \n",
       "Through Recommendations                             0.0      \n",
       "A free copy of Mastering The Interview              0.0      "
      ]
     },
     "execution_count": 36,
     "metadata": {},
     "output_type": "execute_result"
    }
   ],
   "source": [
    "categorical_col = df.select_dtypes(exclude =[\"number\"]).columns.values\n",
    "new_cat = Cat_info(df, categorical_col)\n",
    "new_cat"
   ]
  },
  {
   "cell_type": "code",
   "execution_count": 37,
   "id": "7717e210",
   "metadata": {},
   "outputs": [],
   "source": [
    "df.drop(\"City\",axis=1, inplace = True)"
   ]
  },
  {
   "cell_type": "markdown",
   "id": "fb3e9b14",
   "metadata": {},
   "source": [
    "<h4>Column :  Specialization</h4/>"
   ]
  },
  {
   "cell_type": "code",
   "execution_count": 38,
   "id": "456d9680",
   "metadata": {},
   "outputs": [
    {
     "data": {
      "text/plain": [
       "Specialization\n",
       "Finance Management                   16.655290\n",
       "Human Resource Management            14.470990\n",
       "Marketing Management                 14.300341\n",
       "Operations Management                 8.583618\n",
       "Business Administration               6.877133\n",
       "IT Projects Management                6.245734\n",
       "Supply Chain Management               5.955631\n",
       "Banking, Investment And Insurance     5.767918\n",
       "Media and Advertising                 3.464164\n",
       "Travel and Tourism                    3.464164\n",
       "International Business                3.037543\n",
       "Healthcare Management                 2.713311\n",
       "Hospitality Management                1.945392\n",
       "E-COMMERCE                            1.911263\n",
       "Retail Management                     1.706485\n",
       "Rural and Agribusiness                1.245734\n",
       "E-Business                            0.972696\n",
       "Services Excellence                   0.682594\n",
       "Name: proportion, dtype: float64"
      ]
     },
     "execution_count": 38,
     "metadata": {},
     "output_type": "execute_result"
    }
   ],
   "source": [
    "df['Specialization'].value_counts(normalize = True)*100"
   ]
  },
  {
   "cell_type": "markdown",
   "id": "b11f39cd",
   "metadata": {},
   "source": [
    "\n",
    "It may be possible that the lead has no specialization or may be a student and has no work experience yet , thus he/she has not entered any value. We will create a new category called 'Others' to replace the null values."
   ]
  },
  {
   "cell_type": "code",
   "execution_count": 39,
   "id": "0994ca45",
   "metadata": {},
   "outputs": [],
   "source": [
    "df['Specialization'] = df['Specialization'].replace(np.nan, 'Others')"
   ]
  },
  {
   "cell_type": "markdown",
   "id": "aed5d4d4",
   "metadata": {},
   "source": [
    "We have replaced Na with others"
   ]
  },
  {
   "cell_type": "markdown",
   "id": "f1accf6c",
   "metadata": {},
   "source": [
    "<h4>Column : What matters most to you in choosing a course</h4>"
   ]
  },
  {
   "cell_type": "code",
   "execution_count": 40,
   "id": "873343b2",
   "metadata": {},
   "outputs": [
    {
     "data": {
      "text/plain": [
       "What matters most to you in choosing a course\n",
       "Better Career Prospects      99.954065\n",
       "Flexibility & Convenience     0.030623\n",
       "Other                         0.015312\n",
       "Name: proportion, dtype: float64"
      ]
     },
     "execution_count": 40,
     "metadata": {},
     "output_type": "execute_result"
    }
   ],
   "source": [
    "df['What matters most to you in choosing a course'].value_counts(normalize = True)*100"
   ]
  },
  {
   "cell_type": "markdown",
   "id": "664a6bcd",
   "metadata": {},
   "source": [
    "Too much of skew , Better to delete it "
   ]
  },
  {
   "cell_type": "code",
   "execution_count": 41,
   "id": "bbdc6dc4",
   "metadata": {},
   "outputs": [
    {
     "data": {
      "text/plain": [
       "19"
      ]
     },
     "execution_count": 41,
     "metadata": {},
     "output_type": "execute_result"
    }
   ],
   "source": [
    "df.drop('What matters most to you in choosing a course', axis = 1, inplace=True)\n",
    "len(df.columns)"
   ]
  },
  {
   "cell_type": "markdown",
   "id": "73ebdd66",
   "metadata": {},
   "source": [
    "<h4>Column : What is your current occupation</h4>"
   ]
  },
  {
   "cell_type": "code",
   "execution_count": 42,
   "id": "504ef1eb",
   "metadata": {},
   "outputs": [
    {
     "data": {
      "text/plain": [
       "What is your current occupation\n",
       "Unemployed              85.496183\n",
       "Working Professional    10.778626\n",
       "Student                  3.206107\n",
       "Other                    0.244275\n",
       "Housewife                0.152672\n",
       "Businessman              0.122137\n",
       "Name: proportion, dtype: float64"
      ]
     },
     "execution_count": 42,
     "metadata": {},
     "output_type": "execute_result"
    }
   ],
   "source": [
    "df['What is your current occupation'].value_counts(normalize=True)*100"
   ]
  },
  {
   "cell_type": "markdown",
   "id": "22eb931b",
   "metadata": {},
   "source": [
    "85.5% values are \"Unemployed\". If we impute the data as \"Unemployed\" then data will become more skewed. Thus, we will impute the value as \"Unknown\"."
   ]
  },
  {
   "cell_type": "code",
   "execution_count": 43,
   "id": "2f6d83d0",
   "metadata": {},
   "outputs": [
    {
     "data": {
      "text/plain": [
       "What is your current occupation\n",
       "Unemployed              60.606061\n",
       "Unknown                 29.112554\n",
       "Working Professional     7.640693\n",
       "Student                  2.272727\n",
       "Other                    0.173160\n",
       "Housewife                0.108225\n",
       "Businessman              0.086580\n",
       "Name: proportion, dtype: float64"
      ]
     },
     "execution_count": 43,
     "metadata": {},
     "output_type": "execute_result"
    }
   ],
   "source": [
    "df['What is your current occupation'] = df['What is your current occupation'].replace(np.nan, 'Unknown')\n",
    "df['What is your current occupation'].value_counts(normalize = True)*100"
   ]
  },
  {
   "cell_type": "markdown",
   "id": "81d19c6a",
   "metadata": {
    "vscode": {
     "languageId": "powershell"
    }
   },
   "source": [
    "<h4>Country</h4>"
   ]
  },
  {
   "cell_type": "code",
   "execution_count": 44,
   "id": "7b775a6f",
   "metadata": {},
   "outputs": [
    {
     "data": {
      "text/plain": [
       "Country\n",
       "India                   0.957663\n",
       "United States           0.010178\n",
       "United Arab Emirates    0.007818\n",
       "Singapore               0.003540\n",
       "Saudi Arabia            0.003098\n",
       "United Kingdom          0.002213\n",
       "Australia               0.001918\n",
       "Qatar                   0.001475\n",
       "Hong Kong               0.001033\n",
       "Bahrain                 0.001033\n",
       "Oman                    0.000885\n",
       "France                  0.000885\n",
       "unknown                 0.000738\n",
       "Kuwait                  0.000590\n",
       "South Africa            0.000590\n",
       "Nigeria                 0.000590\n",
       "Germany                 0.000590\n",
       "Canada                  0.000590\n",
       "Sweden                  0.000443\n",
       "Italy                   0.000295\n",
       "Belgium                 0.000295\n",
       "Ghana                   0.000295\n",
       "Philippines             0.000295\n",
       "Netherlands             0.000295\n",
       "China                   0.000295\n",
       "Asia/Pacific Region     0.000295\n",
       "Bangladesh              0.000295\n",
       "Uganda                  0.000295\n",
       "Russia                  0.000148\n",
       "Sri Lanka               0.000148\n",
       "Tanzania                0.000148\n",
       "Kenya                   0.000148\n",
       "Malaysia                0.000148\n",
       "Liberia                 0.000148\n",
       "Denmark                 0.000148\n",
       "Switzerland             0.000148\n",
       "Vietnam                 0.000148\n",
       "Indonesia               0.000148\n",
       "Name: proportion, dtype: float64"
      ]
     },
     "execution_count": 44,
     "metadata": {},
     "output_type": "execute_result"
    }
   ],
   "source": [
    "df['Country'].value_counts(normalize=True)"
   ]
  },
  {
   "cell_type": "markdown",
   "id": "68ab63cf",
   "metadata": {},
   "source": [
    "Country data is heavily skewed as 95% of the data is mapped as India. Similar to City, Country data is not required for Model building as X-Education is online platform. We will drop the country columns too."
   ]
  },
  {
   "cell_type": "markdown",
   "id": "ca23bc85",
   "metadata": {},
   "source": [
    "<h4> Last Activity</h4>"
   ]
  },
  {
   "cell_type": "code",
   "execution_count": 45,
   "id": "2a59d22c",
   "metadata": {},
   "outputs": [
    {
     "name": "stdout",
     "output_type": "stream",
     "text": [
      "Number of null values in Last Activity column is :  103\n",
      "Percentage of null values in Last Activity column is :  1.11\n"
     ]
    }
   ],
   "source": [
    "print(\"Number of null values in Last Activity column is : \", df['Last Activity'].isnull().sum())\n",
    "print(\"Percentage of null values in Last Activity column is : \", round(df['Last Activity'].isnull().sum()/df.shape[0]*100,2))"
   ]
  },
  {
   "cell_type": "code",
   "execution_count": 46,
   "id": "9501b681",
   "metadata": {},
   "outputs": [
    {
     "data": {
      "text/plain": [
       "Last Activity\n",
       "Email Opened                    37.616285\n",
       "SMS Sent                        30.042684\n",
       "Olark Chat Conversation         10.649010\n",
       "Page Visited on Website          7.004487\n",
       "Converted to Lead                4.684251\n",
       "Email Bounced                    3.567911\n",
       "Email Link Clicked               2.922185\n",
       "Form Submitted on Website        1.269563\n",
       "Unreachable                      1.017840\n",
       "Unsubscribed                     0.667615\n",
       "Had a Phone Conversation         0.328335\n",
       "Approached upfront               0.098501\n",
       "View in browser link Clicked     0.065667\n",
       "Email Marked Spam                0.021889\n",
       "Email Received                   0.021889\n",
       "Resubscribed to emails           0.010945\n",
       "Visited Booth in Tradeshow       0.010945\n",
       "Name: proportion, dtype: float64"
      ]
     },
     "execution_count": 46,
     "metadata": {},
     "output_type": "execute_result"
    }
   ],
   "source": [
    "df['Last Activity'].value_counts(normalize = True)*100"
   ]
  },
  {
   "cell_type": "code",
   "execution_count": 47,
   "id": "426bc203",
   "metadata": {},
   "outputs": [
    {
     "name": "stdout",
     "output_type": "stream",
     "text": [
      "Number of null values in Last Activity column is :  0\n"
     ]
    }
   ],
   "source": [
    "df['Last Activity'] = df['Last Activity'].replace(np.nan, 'Email Opened')\n",
    "print(\"Number of null values in Last Activity column is : \", df['Last Activity'].isnull().sum())"
   ]
  },
  {
   "cell_type": "markdown",
   "id": "242108aa",
   "metadata": {},
   "source": [
    "As we are unsure what could be the Last activity, we will replace it with the most frequent activity \"Email Opened\"."
   ]
  },
  {
   "cell_type": "markdown",
   "id": "a6213ef4",
   "metadata": {},
   "source": [
    "<h4>Lead Source</h4>"
   ]
  },
  {
   "cell_type": "code",
   "execution_count": 48,
   "id": "61a8ad28",
   "metadata": {},
   "outputs": [
    {
     "name": "stdout",
     "output_type": "stream",
     "text": [
      "Number of null values in Lead Source column is :  36\n",
      "Percentage of null values in Lead Source column is :  0.39\n"
     ]
    }
   ],
   "source": [
    "print(\"Number of null values in Lead Source column is : \", df['Lead Source'].isnull().sum())\n",
    "print(\"Percentage of null values in Lead Source column is : \", round(df['Lead Source'].isnull().sum()/df.shape[0]*100,2))"
   ]
  },
  {
   "cell_type": "code",
   "execution_count": 49,
   "id": "d41c1881",
   "metadata": {},
   "outputs": [],
   "source": [
    "lead = df.copy()"
   ]
  },
  {
   "cell_type": "markdown",
   "id": "86263ebc",
   "metadata": {},
   "source": []
  },
  {
   "cell_type": "code",
   "execution_count": 50,
   "id": "cdbb1811",
   "metadata": {},
   "outputs": [
    {
     "data": {
      "text/plain": [
       "Lead Source\n",
       "Google               31.160365\n",
       "Direct Traffic       27.629292\n",
       "Olark Chat           19.067797\n",
       "Organic Search       12.538027\n",
       "Reference             5.801825\n",
       "Welingak Website      1.542807\n",
       "Referral Sites        1.358105\n",
       "Facebook              0.597566\n",
       "bing                  0.065189\n",
       "google                0.054324\n",
       "Click2call            0.043459\n",
       "Live Chat             0.021730\n",
       "Social Media          0.021730\n",
       "Press_Release         0.021730\n",
       "Pay per Click Ads     0.010865\n",
       "blog                  0.010865\n",
       "WeLearn               0.010865\n",
       "welearnblog_Home      0.010865\n",
       "youtubechannel        0.010865\n",
       "testone               0.010865\n",
       "NC_EDM                0.010865\n",
       "Name: proportion, dtype: float64"
      ]
     },
     "execution_count": 50,
     "metadata": {},
     "output_type": "execute_result"
    }
   ],
   "source": [
    "lead['Lead Source'].value_counts(normalize = True)*100"
   ]
  },
  {
   "cell_type": "code",
   "execution_count": 51,
   "id": "98e620d7",
   "metadata": {},
   "outputs": [
    {
     "name": "stdout",
     "output_type": "stream",
     "text": [
      "Number of null values in Lead Source column is :  0\n"
     ]
    }
   ],
   "source": [
    "lead['Lead Source'] = lead['Lead Source'].replace(np.nan, 'Google')\n",
    "lead['Lead Source'] = lead['Lead Source'].replace(['google'], 'Google')\n",
    "print(\"Number of null values in Lead Source column is : \", lead['Lead Source'].isnull().sum())"
   ]
  },
  {
   "cell_type": "markdown",
   "id": "266185e9",
   "metadata": {},
   "source": [
    "As Google seems to be most used Lead Source, we will replace null values with Google. There is a category 'google' which is same as 'Google' We will replace the values"
   ]
  },
  {
   "cell_type": "code",
   "execution_count": 52,
   "id": "cc2326de",
   "metadata": {},
   "outputs": [],
   "source": [
    "def Num_info(df, numeric_column):\n",
    "    rows = []\n",
    "    \n",
    "    for col in numeric_column:\n",
    "        null_count = df[col].isna().sum()\n",
    "        null_percent = (null_count / len(df)) * 100\n",
    "        rows.append({\n",
    "            \"columns\": col,\n",
    "            \"null_values\": null_count,\n",
    "            \"null_percent\": round(null_percent, 1)\n",
    "        })\n",
    "    \n",
    "    df_result = pd.DataFrame(rows)\n",
    "    df_result.sort_values(\"null_values\", ascending=False, inplace=True)\n",
    "    df_result.set_index(\"columns\", inplace=True)\n",
    "    \n",
    "    return df_result\n"
   ]
  },
  {
   "cell_type": "code",
   "execution_count": 53,
   "id": "e53b10f3",
   "metadata": {},
   "outputs": [
    {
     "data": {
      "text/html": [
       "<div>\n",
       "<style scoped>\n",
       "    .dataframe tbody tr th:only-of-type {\n",
       "        vertical-align: middle;\n",
       "    }\n",
       "\n",
       "    .dataframe tbody tr th {\n",
       "        vertical-align: top;\n",
       "    }\n",
       "\n",
       "    .dataframe thead th {\n",
       "        text-align: right;\n",
       "    }\n",
       "</style>\n",
       "<table border=\"1\" class=\"dataframe\">\n",
       "  <thead>\n",
       "    <tr style=\"text-align: center;\">\n",
       "      <th></th>\n",
       "      <th>null_values</th>\n",
       "      <th>null_percent</th>\n",
       "    </tr>\n",
       "    <tr>\n",
       "      <th>columns</th>\n",
       "      <th></th>\n",
       "      <th></th>\n",
       "    </tr>\n",
       "  </thead>\n",
       "  <tbody>\n",
       "    <tr>\n",
       "      <th>TotalVisits</th>\n",
       "      <td>137</td>\n",
       "      <td>1.5</td>\n",
       "    </tr>\n",
       "    <tr>\n",
       "      <th>Page Views Per Visit</th>\n",
       "      <td>137</td>\n",
       "      <td>1.5</td>\n",
       "    </tr>\n",
       "    <tr>\n",
       "      <th>Converted</th>\n",
       "      <td>0</td>\n",
       "      <td>0.0</td>\n",
       "    </tr>\n",
       "    <tr>\n",
       "      <th>Total Time Spent on Website</th>\n",
       "      <td>0</td>\n",
       "      <td>0.0</td>\n",
       "    </tr>\n",
       "  </tbody>\n",
       "</table>\n",
       "</div>"
      ],
      "text/plain": [
       "                             null_values  null_percent\n",
       "columns                                               \n",
       "TotalVisits                      137           1.5    \n",
       "Page Views Per Visit             137           1.5    \n",
       "Converted                          0           0.0    \n",
       "Total Time Spent on Website        0           0.0    "
      ]
     },
     "execution_count": 53,
     "metadata": {},
     "output_type": "execute_result"
    }
   ],
   "source": [
    "df_num = Num_info(lead,numerical_col)\n",
    "df_num"
   ]
  },
  {
   "cell_type": "markdown",
   "id": "8f5b0c7e",
   "metadata": {},
   "source": [
    "<h4>Total Visits</h4>"
   ]
  },
  {
   "cell_type": "code",
   "execution_count": 54,
   "id": "94ec94b4",
   "metadata": {},
   "outputs": [],
   "source": [
    "# Plot\n",
    "plt.figure(figsize=(6, 3))\n",
    "\n",
    "# Distribution plot with KDE\n",
    "plt.subplot(1, 2, 1)\n",
    "sns.histplot(lead['TotalVisits'].dropna(), kde=True)\n",
    "plt.title('Distribution of TotalVisits')\n",
    "\n",
    "# Boxplot\n",
    "plt.subplot(1, 2, 2)\n",
    "sns.boxplot(x=lead['TotalVisits'].dropna())\n",
    "plt.title('Boxplot of TotalVisits')\n",
    "\n",
    "plt.tight_layout()\n",
    "plt.show()"
   ]
  },
  {
   "cell_type": "markdown",
   "id": "cf171bd8",
   "metadata": {},
   "source": [
    "As we see there are some outliers in the data, we will impute with median and not mean value."
   ]
  },
  {
   "cell_type": "code",
   "execution_count": 55,
   "id": "1340949b",
   "metadata": {},
   "outputs": [
    {
     "data": {
      "text/plain": [
       "np.int64(0)"
      ]
     },
     "execution_count": 55,
     "metadata": {},
     "output_type": "execute_result"
    }
   ],
   "source": [
    "lead['TotalVisits'].fillna(lead['TotalVisits'].median(), inplace=True)\n",
    "lead['TotalVisits'].isnull().sum()"
   ]
  },
  {
   "cell_type": "markdown",
   "id": "9a527857",
   "metadata": {},
   "source": [
    "<h4>Page Views Per Visit</h4>"
   ]
  },
  {
   "cell_type": "code",
   "execution_count": 56,
   "id": "7f0b205b",
   "metadata": {},
   "outputs": [],
   "source": [
    "\n",
    "# Plot\n",
    "plt.figure(figsize=(6, 3))\n",
    "\n",
    "# Distribution plot with KDE\n",
    "plt.subplot(1, 2, 1)\n",
    "sns.histplot(lead['Page Views Per Visit'].dropna(), kde=True)\n",
    "plt.title('Distribution of Page Views Per Visit')\n",
    "\n",
    "# Boxplot\n",
    "plt.subplot(1, 2, 2)\n",
    "sns.boxplot(x=lead['Page Views Per Visit'].dropna())\n",
    "plt.title('Boxplot of Page Views Per Visit')\n",
    "\n",
    "plt.tight_layout()\n",
    "plt.show()"
   ]
  },
  {
   "cell_type": "code",
   "execution_count": 57,
   "id": "0cde75bf",
   "metadata": {},
   "outputs": [
    {
     "data": {
      "text/plain": [
       "np.int64(0)"
      ]
     },
     "execution_count": 57,
     "metadata": {},
     "output_type": "execute_result"
    }
   ],
   "source": [
    "lead['Page Views Per Visit'].fillna(lead['Page Views Per Visit'].median(), inplace=True)\n",
    "lead['Page Views Per Visit'].isnull().sum()"
   ]
  },
  {
   "cell_type": "markdown",
   "id": "a31deb34",
   "metadata": {},
   "source": [
    "As we see there are some outliers in the data, we will impute with median and not mean value. "
   ]
  },
  {
   "cell_type": "code",
   "execution_count": 58,
   "id": "33421631",
   "metadata": {},
   "outputs": [
    {
     "data": {
      "text/plain": [
       "Lead Origin\n",
       "Landing Page Submission    4886\n",
       "API                        3580\n",
       "Lead Add Form               718\n",
       "Lead Import                  55\n",
       "Quick Add Form                1\n",
       "Name: count, dtype: int64"
      ]
     },
     "execution_count": 58,
     "metadata": {},
     "output_type": "execute_result"
    }
   ],
   "source": [
    "df['Lead Origin'].value_counts()"
   ]
  },
  {
   "cell_type": "code",
   "execution_count": 59,
   "id": "5b09f4c4",
   "metadata": {},
   "outputs": [
    {
     "data": {
      "text/plain": [
       "Lead Source\n",
       "Google               2868\n",
       "Direct Traffic       2543\n",
       "Olark Chat           1755\n",
       "Organic Search       1154\n",
       "Reference             534\n",
       "Welingak Website      142\n",
       "Referral Sites        125\n",
       "Facebook               55\n",
       "bing                    6\n",
       "google                  5\n",
       "Click2call              4\n",
       "Live Chat               2\n",
       "Social Media            2\n",
       "Press_Release           2\n",
       "Pay per Click Ads       1\n",
       "blog                    1\n",
       "WeLearn                 1\n",
       "welearnblog_Home        1\n",
       "youtubechannel          1\n",
       "testone                 1\n",
       "NC_EDM                  1\n",
       "Name: count, dtype: int64"
      ]
     },
     "execution_count": 59,
     "metadata": {},
     "output_type": "execute_result"
    }
   ],
   "source": [
    "df['Lead Source'].value_counts()"
   ]
  },
  {
   "cell_type": "code",
   "execution_count": null,
   "id": "0286fd98",
   "metadata": {},
   "outputs": [],
   "source": []
  }
 ],
 "metadata": {
  "kernelspec": {
   "display_name": ".venv",
   "language": "python",
   "name": "python3"
  },
  "language_info": {
   "codemirror_mode": {
    "name": "ipython",
    "version": 3
   },
   "file_extension": ".py",
   "mimetype": "text/x-python",
   "name": "python",
   "nbconvert_exporter": "python",
   "pygments_lexer": "ipython3",
   "version": "3.11.9"
  }
 },
 "nbformat": 4,
 "nbformat_minor": 5
}
